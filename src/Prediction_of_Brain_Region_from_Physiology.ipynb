{
  "nbformat": 4,
  "nbformat_minor": 0,
  "metadata": {
    "colab": {
      "name": "Prediction of Brain Region from Physiology.ipynb",
      "provenance": [],
      "collapsed_sections": [],
      "authorship_tag": "ABX9TyNNxXoaX6EEF2ThnZDlyh8E",
      "include_colab_link": true
    },
    "kernelspec": {
      "name": "python3",
      "display_name": "Python 3"
    },
    "accelerator": "GPU"
  },
  "cells": [
    {
      "cell_type": "markdown",
      "metadata": {
        "id": "view-in-github",
        "colab_type": "text"
      },
      "source": [
        "<a href=\"https://colab.research.google.com/github/ulasciftcioglu/Prediction-of-Brain-Region-from-Physiology/blob/master/src/Prediction_of_Brain_Region_from_Physiology.ipynb\" target=\"_parent\"><img src=\"https://colab.research.google.com/assets/colab-badge.svg\" alt=\"Open In Colab\"/></a>"
      ]
    },
    {
      "cell_type": "markdown",
      "metadata": {
        "id": "fo-BEzIfLQwB",
        "colab_type": "text"
      },
      "source": [
        "# Predicting the Location of Brain Cells Based on Their Physiological Properties\n",
        "\n",
        "##Welcome to my notebook. Here we will:\n",
        "\n",
        "#####*   Download the dataset that contains physiological metrics from brain cells in different brain regions, from the recently released [Allen Brain Neuropixels Dataset](https://allensdk.readthedocs.io/en/latest/visual_coding_neuropixels.html)\n",
        "#####*   Preprocess the Dataset (Filtering, imputation, normalization)\n",
        "#####*   Build models that can predict the location of brain cells from their physiological parameters\n",
        "#####*   Look into features which matters most in the prediction\n",
        "#####*   Compare the prediction performance of 2 datasets (\"Brain Observatory 1.1\" and \"Functional Connectivity\") , collected under different experimental settings\n",
        "\n",
        "####This dataset is collected from cells in various brain regions of mouse, for two experimental protocols which consists of different visual stimuli sequences (\"Brain Observatory 1.1\" and \"Functional Connectivity\"). For more information on this dataset and how it is collected, please see [Allen Brain Observatory Visual Coding - Neuropixels Dataset](https://allensdk.readthedocs.io/en/latest/visual_coding_neuropixels.html) and the [associated technical whitepaper](https://brainmapportal-live-4cc80a57cd6e400d854-f7fdcae.divio-media.net/filer_public/80/75/8075a100-ca64-429a-b39a-569121b612b2/neuropixels_visual_coding_-_white_paper_v10.pdf).\n",
        "\n",
        "Here is the abbreviations used throughout the notebook:\n",
        "\n",
        "vc=Visual Cortex; hf=Hippocampal Formation; bo=Brain Observatory 1.1; fc=Functional Connectivity"
      ]
    },
    {
      "cell_type": "markdown",
      "metadata": {
        "id": "KnImVwqFX6yJ",
        "colab_type": "text"
      },
      "source": [
        "#1 - Install Allen Software Development Kit, Download Data and Install/Import libraries"
      ]
    },
    {
      "cell_type": "code",
      "metadata": {
        "id": "SwHhXdw6Pc5c",
        "colab_type": "code",
        "colab": {
          "base_uri": "https://localhost:8080/",
          "height": 1000
        },
        "outputId": "63beaef5-0c9d-4ecf-f334-0ea7848b2c2b"
      },
      "source": [
        "'''\n",
        "Installation Allen Software Development Kit\n",
        "Commands provided in Allen Software Development Kit (https://allensdk.readthedocs.io/en/latest/visual_coding_neuropixels.html)\n",
        "Set directory to download csv files and download these files\n",
        "\n",
        "After that, install statsmodels version 0.10.2 (to revert the downgrade during the installation of allendsk 0.9.0)\n",
        "Install hypopt (to do grid search using validation set with scikit-learn models)\n",
        "Import libraries\n",
        "'''\n",
        "\n",
        "!pip install -U allensdk\n",
        "\n",
        "import os\n",
        "from allensdk.brain_observatory.ecephys.ecephys_project_cache import EcephysProjectCache\n",
        "\n",
        "data_directory = '/tmp/AllenBrainDataset' # update directory to preferred directory (optional)\n",
        "manifest_path = os.path.join(data_directory, \"manifest.json\")\n",
        "cache = EcephysProjectCache.from_warehouse(manifest=manifest_path)\n",
        "\n",
        "metrics_brain_observatory=cache.get_unit_analysis_metrics_by_session_type('brain_observatory_1.1') # Download Brain Observatory Dataset\n",
        "metrics_functional_connectivity=cache.get_unit_analysis_metrics_by_session_type('functional_connectivity') # Download Functional Connectivity Dataset\n",
        "\n",
        "\n",
        "!pip install statsmodels==0.10.2\n",
        "!pip install hypopt\n",
        "\n",
        "import numpy as np\n",
        "import pandas as pd\n",
        "import matplotlib\n",
        "import matplotlib.pyplot as plt\n",
        "import plotly.graph_objects as go\n",
        "\n",
        "import statsmodels.discrete.discrete_model as dm\n",
        "\n",
        "from sklearn.metrics import accuracy_score\n",
        "from sklearn.metrics import f1_score\n",
        "from sklearn.ensemble import GradientBoostingClassifier\n",
        "\n",
        "from hypopt import GridSearch\n",
        "\n",
        "import tensorflow as tf\n",
        "from tensorflow.keras import regularizers\n",
        "from tensorflow.keras import optimizers\n",
        "\n"
      ],
      "execution_count": 1,
      "outputs": [
        {
          "output_type": "stream",
          "text": [
            "Collecting allensdk\n",
            "\u001b[?25l  Downloading https://files.pythonhosted.org/packages/4d/a8/42d2a4cc9aa719c9358aee54c3bd39f2023ca4d0ea1cd482f89d8cb5d353/allensdk-1.4.0-py3-none-any.whl (1.5MB)\n",
            "\u001b[K     |████████████████████████████████| 1.5MB 3.5MB/s \n",
            "\u001b[?25hCollecting aiohttp==3.6.2\n",
            "\u001b[?25l  Downloading https://files.pythonhosted.org/packages/7c/39/7eb5f98d24904e0f6d3edb505d4aa60e3ef83c0a58d6fe18244a51757247/aiohttp-3.6.2-cp36-cp36m-manylinux1_x86_64.whl (1.2MB)\n",
            "\u001b[K     |████████████████████████████████| 1.2MB 20.3MB/s \n",
            "\u001b[?25hRequirement already satisfied, skipping upgrade: h5py>=2.8 in /usr/local/lib/python3.6/dist-packages (from allensdk) (2.8.0)\n",
            "Collecting argschema\n",
            "  Downloading https://files.pythonhosted.org/packages/6c/9c/eda80d623523c7ce227159ecdae764e67782139e1ef5299e4ab6ec7a04b2/argschema-2.0.1.tar.gz\n",
            "Collecting psycopg2-binary>=2.7\n",
            "\u001b[?25l  Downloading https://files.pythonhosted.org/packages/1e/c0/16303cef8d54fdcfae7be7880cf471f21449225687f61cc3be2a7ef4e6e5/psycopg2_binary-2.8.4-cp36-cp36m-manylinux1_x86_64.whl (2.9MB)\n",
            "\u001b[K     |████████████████████████████████| 2.9MB 36.8MB/s \n",
            "\u001b[?25hRequirement already satisfied, skipping upgrade: requests in /usr/local/lib/python3.6/dist-packages (from allensdk) (2.21.0)\n",
            "Requirement already satisfied, skipping upgrade: xarray in /usr/local/lib/python3.6/dist-packages (from allensdk) (0.14.1)\n",
            "Collecting simpleitk\n",
            "\u001b[?25l  Downloading https://files.pythonhosted.org/packages/f8/d8/53338c34f71020725ffb3557846c80af96c29c03bc883551a2565aa68a7c/SimpleITK-1.2.4-cp36-cp36m-manylinux1_x86_64.whl (42.5MB)\n",
            "\u001b[K     |████████████████████████████████| 42.5MB 76kB/s \n",
            "\u001b[?25hRequirement already satisfied, skipping upgrade: future>=0.14.3 in /usr/local/lib/python3.6/dist-packages (from allensdk) (0.16.0)\n",
            "Collecting pynrrd>=0.2.1\n",
            "  Downloading https://files.pythonhosted.org/packages/92/00/ef17d52fd125f357d7ead95e823091b2344194d34ce94e2fe839184f48e7/pynrrd-0.4.2-py2.py3-none-any.whl\n",
            "Collecting tables==3.5.1\n",
            "\u001b[?25l  Downloading https://files.pythonhosted.org/packages/ab/79/4e1301a87f3b7f27aa6c9cb1aeba4875ff3edb62a6fe3872dc8f04983db4/tables-3.5.1-cp36-cp36m-manylinux1_x86_64.whl (4.3MB)\n",
            "\u001b[K     |████████████████████████████████| 4.3MB 63.8MB/s \n",
            "\u001b[?25hCollecting scikit-build\n",
            "\u001b[?25l  Downloading https://files.pythonhosted.org/packages/8a/b5/c6ca60421991c22e69b9a950b0d046e06d714f79f7071946ab885c7115fb/scikit_build-0.10.0-py2.py3-none-any.whl (66kB)\n",
            "\u001b[K     |████████████████████████████████| 71kB 11.2MB/s \n",
            "\u001b[?25hRequirement already satisfied, skipping upgrade: numpy>=1.15.4 in /usr/local/lib/python3.6/dist-packages (from allensdk) (1.17.5)\n",
            "Requirement already satisfied, skipping upgrade: six>=1.9.0 in /usr/local/lib/python3.6/dist-packages (from allensdk) (1.12.0)\n",
            "Collecting requests-toolbelt\n",
            "\u001b[?25l  Downloading https://files.pythonhosted.org/packages/60/ef/7681134338fc097acef8d9b2f8abe0458e4d87559c689a8c306d0957ece5/requests_toolbelt-0.9.1-py2.py3-none-any.whl (54kB)\n",
            "\u001b[K     |████████████████████████████████| 61kB 10.8MB/s \n",
            "\u001b[?25hCollecting glymur==0.8.19\n",
            "\u001b[?25l  Downloading https://files.pythonhosted.org/packages/d1/f9/01b464dd2b312c1f9bec26f985f2d0a9eef1a7390e407588578cc135fde0/Glymur-0.8.19.tar.gz (3.4MB)\n",
            "\u001b[K     |████████████████████████████████| 3.4MB 49.2MB/s \n",
            "\u001b[?25hRequirement already satisfied, skipping upgrade: matplotlib>=1.4.3 in /usr/local/lib/python3.6/dist-packages (from allensdk) (3.1.3)\n",
            "Requirement already satisfied, skipping upgrade: pandas>=0.25.1 in /usr/local/lib/python3.6/dist-packages (from allensdk) (0.25.3)\n",
            "Collecting simplejson>=3.10.0\n",
            "\u001b[?25l  Downloading https://files.pythonhosted.org/packages/98/87/a7b98aa9256c8843f92878966dc3d8d914c14aad97e2c5ce4798d5743e07/simplejson-3.17.0.tar.gz (83kB)\n",
            "\u001b[K     |████████████████████████████████| 92kB 14.7MB/s \n",
            "\u001b[?25hRequirement already satisfied, skipping upgrade: scipy>=0.15.1 in /usr/local/lib/python3.6/dist-packages (from allensdk) (1.4.1)\n",
            "Requirement already satisfied, skipping upgrade: scikit-image>=0.14.0 in /usr/local/lib/python3.6/dist-packages (from allensdk) (0.16.2)\n",
            "Collecting hdmf==1.0.2\n",
            "\u001b[?25l  Downloading https://files.pythonhosted.org/packages/c1/a9/1f31bbee98035d7947da45e30530a5126a6207d6664c064314fc0d64155a/hdmf-1.0.2-py2.py3-none-any.whl (78kB)\n",
            "\u001b[K     |████████████████████████████████| 81kB 14.7MB/s \n",
            "\u001b[?25hRequirement already satisfied, skipping upgrade: jinja2>=2.7.3 in /usr/local/lib/python3.6/dist-packages (from allensdk) (2.11.1)\n",
            "Collecting nest-asyncio==1.2.0\n",
            "  Downloading https://files.pythonhosted.org/packages/81/f3/e59eb5fa5c41c7e6ae9741ed18534dbfae15ad29040a3927396678934b28/nest_asyncio-1.2.0-py3-none-any.whl\n",
            "Collecting statsmodels==0.9.0\n",
            "\u001b[?25l  Downloading https://files.pythonhosted.org/packages/85/d1/69ee7e757f657e7f527cbf500ec2d295396e5bcec873cf4eb68962c41024/statsmodels-0.9.0-cp36-cp36m-manylinux1_x86_64.whl (7.4MB)\n",
            "\u001b[K     |████████████████████████████████| 7.4MB 32.5MB/s \n",
            "\u001b[?25hRequirement already satisfied, skipping upgrade: seaborn in /usr/local/lib/python3.6/dist-packages (from allensdk) (0.10.0)\n",
            "Collecting marshmallow==3.0.0rc6\n",
            "\u001b[?25l  Downloading https://files.pythonhosted.org/packages/dd/d6/b6b2b90a9e10edf99a8bea3bc5200619829f04c9d9c0c5b3839d68baf072/marshmallow-3.0.0rc6-py2.py3-none-any.whl (42kB)\n",
            "\u001b[K     |████████████████████████████████| 51kB 8.9MB/s \n",
            "\u001b[?25hCollecting pynwb==1.0.2\n",
            "\u001b[?25l  Downloading https://files.pythonhosted.org/packages/82/72/c709ff36701cd4791cb3e296df7421acbac11699406c331eb9f10c79289b/pynwb-1.0.2-py2.py3-none-any.whl (96kB)\n",
            "\u001b[K     |████████████████████████████████| 102kB 16.8MB/s \n",
            "\u001b[?25hRequirement already satisfied, skipping upgrade: chardet<4.0,>=2.0 in /usr/local/lib/python3.6/dist-packages (from aiohttp==3.6.2->allensdk) (3.0.4)\n",
            "Collecting yarl<2.0,>=1.0\n",
            "\u001b[?25l  Downloading https://files.pythonhosted.org/packages/95/8f/0209fc5d975f839344c33c822ff2f7ef80f6b1e984673a5a68f960bfa583/yarl-1.4.2-cp36-cp36m-manylinux1_x86_64.whl (252kB)\n",
            "\u001b[K     |████████████████████████████████| 256kB 64.6MB/s \n",
            "\u001b[?25hRequirement already satisfied, skipping upgrade: attrs>=17.3.0 in /usr/local/lib/python3.6/dist-packages (from aiohttp==3.6.2->allensdk) (19.3.0)\n",
            "Collecting idna-ssl>=1.0; python_version < \"3.7\"\n",
            "  Downloading https://files.pythonhosted.org/packages/46/03/07c4894aae38b0de52b52586b24bf189bb83e4ddabfe2e2c8f2419eec6f4/idna-ssl-1.1.0.tar.gz\n",
            "Requirement already satisfied, skipping upgrade: typing-extensions>=3.6.5; python_version < \"3.7\" in /usr/local/lib/python3.6/dist-packages (from aiohttp==3.6.2->allensdk) (3.6.6)\n",
            "Collecting async-timeout<4.0,>=3.0\n",
            "  Downloading https://files.pythonhosted.org/packages/e1/1e/5a4441be21b0726c4464f3f23c8b19628372f606755a9d2e46c187e65ec4/async_timeout-3.0.1-py3-none-any.whl\n",
            "Collecting multidict<5.0,>=4.5\n",
            "\u001b[?25l  Downloading https://files.pythonhosted.org/packages/06/5a/d423c846bb839105143d4cd90da19d0f3fc972c51be651f92ac419a20698/multidict-4.7.4-cp36-cp36m-manylinux1_x86_64.whl (147kB)\n",
            "\u001b[K     |████████████████████████████████| 153kB 71.2MB/s \n",
            "\u001b[?25hRequirement already satisfied, skipping upgrade: certifi>=2017.4.17 in /usr/local/lib/python3.6/dist-packages (from requests->allensdk) (2019.11.28)\n",
            "Requirement already satisfied, skipping upgrade: urllib3<1.25,>=1.21.1 in /usr/local/lib/python3.6/dist-packages (from requests->allensdk) (1.24.3)\n",
            "Requirement already satisfied, skipping upgrade: idna<2.9,>=2.5 in /usr/local/lib/python3.6/dist-packages (from requests->allensdk) (2.8)\n",
            "Collecting mock>=2.0\n",
            "  Downloading https://files.pythonhosted.org/packages/30/6a/9bde648117ec7087c89a45de0a8b25aba21d54d3defd08cb24eacded875f/mock-4.0.1-py3-none-any.whl\n",
            "Requirement already satisfied, skipping upgrade: numexpr>=2.6.2 in /usr/local/lib/python3.6/dist-packages (from tables==3.5.1->allensdk) (2.7.1)\n",
            "Requirement already satisfied, skipping upgrade: packaging in /usr/local/lib/python3.6/dist-packages (from scikit-build->allensdk) (20.1)\n",
            "Requirement already satisfied, skipping upgrade: wheel>=0.29.0 in /usr/local/lib/python3.6/dist-packages (from scikit-build->allensdk) (0.34.2)\n",
            "Requirement already satisfied, skipping upgrade: setuptools>=28.0.0 in /usr/local/lib/python3.6/dist-packages (from scikit-build->allensdk) (45.1.0)\n",
            "Requirement already satisfied, skipping upgrade: pyparsing!=2.0.4,!=2.1.2,!=2.1.6,>=2.0.1 in /usr/local/lib/python3.6/dist-packages (from matplotlib>=1.4.3->allensdk) (2.4.6)\n",
            "Requirement already satisfied, skipping upgrade: python-dateutil>=2.1 in /usr/local/lib/python3.6/dist-packages (from matplotlib>=1.4.3->allensdk) (2.6.1)\n",
            "Requirement already satisfied, skipping upgrade: kiwisolver>=1.0.1 in /usr/local/lib/python3.6/dist-packages (from matplotlib>=1.4.3->allensdk) (1.1.0)\n",
            "Requirement already satisfied, skipping upgrade: cycler>=0.10 in /usr/local/lib/python3.6/dist-packages (from matplotlib>=1.4.3->allensdk) (0.10.0)\n",
            "Requirement already satisfied, skipping upgrade: pytz>=2017.2 in /usr/local/lib/python3.6/dist-packages (from pandas>=0.25.1->allensdk) (2018.9)\n",
            "Requirement already satisfied, skipping upgrade: networkx>=2.0 in /usr/local/lib/python3.6/dist-packages (from scikit-image>=0.14.0->allensdk) (2.4)\n",
            "Requirement already satisfied, skipping upgrade: imageio>=2.3.0 in /usr/local/lib/python3.6/dist-packages (from scikit-image>=0.14.0->allensdk) (2.4.1)\n",
            "Requirement already satisfied, skipping upgrade: PyWavelets>=0.4.0 in /usr/local/lib/python3.6/dist-packages (from scikit-image>=0.14.0->allensdk) (1.1.1)\n",
            "Requirement already satisfied, skipping upgrade: pillow>=4.3.0 in /usr/local/lib/python3.6/dist-packages (from scikit-image>=0.14.0->allensdk) (6.2.2)\n",
            "Collecting ruamel.yaml\n",
            "\u001b[?25l  Downloading https://files.pythonhosted.org/packages/7c/34/a6653548900805dbd4e4fa8c233fe3af6e89069d8ec1185ccf947881ac58/ruamel.yaml-0.16.7-py2.py3-none-any.whl (123kB)\n",
            "\u001b[K     |████████████████████████████████| 133kB 74.2MB/s \n",
            "\u001b[?25hRequirement already satisfied, skipping upgrade: MarkupSafe>=0.23 in /usr/local/lib/python3.6/dist-packages (from jinja2>=2.7.3->allensdk) (1.1.1)\n",
            "Requirement already satisfied, skipping upgrade: patsy in /usr/local/lib/python3.6/dist-packages (from statsmodels==0.9.0->allensdk) (0.5.1)\n",
            "Requirement already satisfied, skipping upgrade: decorator>=4.3.0 in /usr/local/lib/python3.6/dist-packages (from networkx>=2.0->scikit-image>=0.14.0->allensdk) (4.4.1)\n",
            "Collecting ruamel.yaml.clib>=0.1.2; platform_python_implementation == \"CPython\" and python_version < \"3.8\"\n",
            "\u001b[?25l  Downloading https://files.pythonhosted.org/packages/53/77/4bcd63f362bcb6c8f4f06253c11f9772f64189bf08cf3f40c5ccbda9e561/ruamel.yaml.clib-0.2.0-cp36-cp36m-manylinux1_x86_64.whl (548kB)\n",
            "\u001b[K     |████████████████████████████████| 552kB 36.4MB/s \n",
            "\u001b[?25hBuilding wheels for collected packages: argschema, glymur, simplejson, idna-ssl\n",
            "  Building wheel for argschema (setup.py) ... \u001b[?25l\u001b[?25hdone\n",
            "  Created wheel for argschema: filename=argschema-2.0.1-py2.py3-none-any.whl size=17804 sha256=98d39a08f78e490f759be93ad6b69acd92f6fe58b77afdaefa1aa294ae0aa733\n",
            "  Stored in directory: /root/.cache/pip/wheels/58/83/40/f752e701906707d20d835081a2e1b07649dba964849f935601\n",
            "  Building wheel for glymur (setup.py) ... \u001b[?25l\u001b[?25hdone\n",
            "  Created wheel for glymur: filename=Glymur-0.8.19-cp36-none-any.whl size=2722000 sha256=7042414af3e9e88f209d16eca8edc7d5daf2f64f7edd6268acf5821b7b772c40\n",
            "  Stored in directory: /root/.cache/pip/wheels/6a/c6/f6/918d148fb2aa6a13606af5475644e8116e9398485c36f0d995\n",
            "  Building wheel for simplejson (setup.py) ... \u001b[?25l\u001b[?25hdone\n",
            "  Created wheel for simplejson: filename=simplejson-3.17.0-cp36-cp36m-linux_x86_64.whl size=114200 sha256=3921162db5dea9be6d72f97d2969bb3b9c722d178be3c580a51b3f1cf8719b77\n",
            "  Stored in directory: /root/.cache/pip/wheels/86/c0/83/dcd0339abb2640544bb8e0938aab2d069cef55e5647ce6e097\n",
            "  Building wheel for idna-ssl (setup.py) ... \u001b[?25l\u001b[?25hdone\n",
            "  Created wheel for idna-ssl: filename=idna_ssl-1.1.0-cp36-none-any.whl size=3162 sha256=73b6f29bbbc348a8bc1b721996f9e464d2fff16853dc276a5e67fd4d885e9734\n",
            "  Stored in directory: /root/.cache/pip/wheels/d3/00/b3/32d613e19e08a739751dd6bf998cfed277728f8b2127ad4eb7\n",
            "Successfully built argschema glymur simplejson idna-ssl\n",
            "Installing collected packages: multidict, yarl, idna-ssl, async-timeout, aiohttp, marshmallow, argschema, psycopg2-binary, simpleitk, pynrrd, mock, tables, scikit-build, requests-toolbelt, glymur, simplejson, ruamel.yaml.clib, ruamel.yaml, hdmf, nest-asyncio, statsmodels, pynwb, allensdk\n",
            "  Found existing installation: tables 3.4.4\n",
            "    Uninstalling tables-3.4.4:\n",
            "      Successfully uninstalled tables-3.4.4\n",
            "  Found existing installation: statsmodels 0.10.2\n",
            "    Uninstalling statsmodels-0.10.2:\n",
            "      Successfully uninstalled statsmodels-0.10.2\n",
            "Successfully installed aiohttp-3.6.2 allensdk-1.4.0 argschema-2.0.1 async-timeout-3.0.1 glymur-0.8.19 hdmf-1.0.2 idna-ssl-1.1.0 marshmallow-3.0.0rc6 mock-4.0.1 multidict-4.7.4 nest-asyncio-1.2.0 psycopg2-binary-2.8.4 pynrrd-0.4.2 pynwb-1.0.2 requests-toolbelt-0.9.1 ruamel.yaml-0.16.7 ruamel.yaml.clib-0.2.0 scikit-build-0.10.0 simpleitk-1.2.4 simplejson-3.17.0 statsmodels-0.9.0 tables-3.5.1 yarl-1.4.2\n"
          ],
          "name": "stdout"
        },
        {
          "output_type": "stream",
          "text": [
            "/usr/local/lib/python3.6/dist-packages/allensdk/brain_observatory/ecephys/ecephys_project_api/ecephys_project_warehouse_api.py:296: FutureWarning: Conversion of the second argument of issubdtype from `bool` to `np.generic` is deprecated. In future, it will be treated as `np.bool_ == np.dtype(bool).type`.\n",
            "  pv_is_bool = np.issubdtype(output[\"p_value_rf\"].values[0], bool)\n"
          ],
          "name": "stderr"
        },
        {
          "output_type": "stream",
          "text": [
            "Collecting statsmodels==0.10.2\n",
            "\u001b[?25l  Downloading https://files.pythonhosted.org/packages/48/f9/9f5c93b0159d89dd527ed271ca2ad71af629422d89530218c5e929c5f800/statsmodels-0.10.2-cp36-cp36m-manylinux1_x86_64.whl (8.1MB)\n",
            "\u001b[K     |████████████████████████████████| 8.1MB 3.4MB/s \n",
            "\u001b[?25hRequirement already satisfied: pandas>=0.19 in /usr/local/lib/python3.6/dist-packages (from statsmodels==0.10.2) (0.25.3)\n",
            "Requirement already satisfied: scipy>=0.18 in /usr/local/lib/python3.6/dist-packages (from statsmodels==0.10.2) (1.4.1)\n",
            "Requirement already satisfied: patsy>=0.4.0 in /usr/local/lib/python3.6/dist-packages (from statsmodels==0.10.2) (0.5.1)\n",
            "Requirement already satisfied: numpy>=1.11 in /usr/local/lib/python3.6/dist-packages (from statsmodels==0.10.2) (1.17.5)\n",
            "Requirement already satisfied: pytz>=2017.2 in /usr/local/lib/python3.6/dist-packages (from pandas>=0.19->statsmodels==0.10.2) (2018.9)\n",
            "Requirement already satisfied: python-dateutil>=2.6.1 in /usr/local/lib/python3.6/dist-packages (from pandas>=0.19->statsmodels==0.10.2) (2.6.1)\n",
            "Requirement already satisfied: six in /usr/local/lib/python3.6/dist-packages (from patsy>=0.4.0->statsmodels==0.10.2) (1.12.0)\n",
            "\u001b[31mERROR: allensdk 1.4.0 has requirement statsmodels==0.9.0, but you'll have statsmodels 0.10.2 which is incompatible.\u001b[0m\n",
            "Installing collected packages: statsmodels\n",
            "  Found existing installation: statsmodels 0.9.0\n",
            "    Uninstalling statsmodels-0.9.0:\n",
            "      Successfully uninstalled statsmodels-0.9.0\n",
            "Successfully installed statsmodels-0.10.2\n",
            "Collecting hypopt\n",
            "  Downloading https://files.pythonhosted.org/packages/6e/8b/17f9022d94066ec29ab0008ed1ad247615153e5c633c2787255cfe2e95b8/hypopt-1.0.9-py2.py3-none-any.whl\n",
            "Requirement already satisfied: scikit-learn>=0.18 in /usr/local/lib/python3.6/dist-packages (from hypopt) (0.22.1)\n",
            "Requirement already satisfied: numpy>=1.11.3 in /usr/local/lib/python3.6/dist-packages (from hypopt) (1.17.5)\n",
            "Requirement already satisfied: scipy>=0.17.0 in /usr/local/lib/python3.6/dist-packages (from scikit-learn>=0.18->hypopt) (1.4.1)\n",
            "Requirement already satisfied: joblib>=0.11 in /usr/local/lib/python3.6/dist-packages (from scikit-learn>=0.18->hypopt) (0.14.1)\n",
            "Installing collected packages: hypopt\n",
            "Successfully installed hypopt-1.0.9\n"
          ],
          "name": "stdout"
        },
        {
          "output_type": "display_data",
          "data": {
            "text/html": [
              "<p style=\"color: red;\">\n",
              "The default version of TensorFlow in Colab will soon switch to TensorFlow 2.x.<br>\n",
              "We recommend you <a href=\"https://www.tensorflow.org/guide/migrate\" target=\"_blank\">upgrade</a> now \n",
              "or ensure your notebook will continue to use TensorFlow 1.x via the <code>%tensorflow_version 1.x</code> magic:\n",
              "<a href=\"https://colab.research.google.com/notebooks/tensorflow_version.ipynb\" target=\"_blank\">more info</a>.</p>\n"
            ],
            "text/plain": [
              "<IPython.core.display.HTML object>"
            ]
          },
          "metadata": {
            "tags": []
          }
        }
      ]
    },
    {
      "cell_type": "markdown",
      "metadata": {
        "id": "M6qi-Q4RIlGQ",
        "colab_type": "text"
      },
      "source": [
        "#2 - Import Data to Workspace\n",
        "Read the data csv files as pandas dataframes. Here is the list of 4 files:\n",
        "\n",
        "1.   brain_observatory_1.1_analysis_metrics.csv: Includes metric values for the \"Brain Observatory 1.1\" experimental protocol \n",
        "2.   functional_connectivity_analysis_metrics.csv: Includes metric values for the \"Functional Connectivity\" experimental protocol\n",
        "3.   channels.csv: Includes information (such as brain region) about channels (A Channel corresponds to a recording site (in an electrode) that units are recorded. There can be zero, one or many units (brain cells) recording in a specific channel.)\n",
        "4.   units.csv: Includes information about units (the associated channel and quality information)\n",
        "\n",
        "\n",
        "\n",
        "\n"
      ]
    },
    {
      "cell_type": "code",
      "metadata": {
        "id": "OYaprt_Wahqt",
        "colab_type": "code",
        "outputId": "ec4068a5-332c-42ed-f703-ae166e73c977",
        "colab": {
          "base_uri": "https://localhost:8080/",
          "height": 52
        }
      },
      "source": [
        "'''\n",
        "Read all 4 csv files necessary\n",
        "1-Brain Observatory Dataset, 2-Functional Connectivity Dataset, 3-Channels Information, 4- Units Information \n",
        "'''\n",
        "\n",
        "metrics_brain_observatory=pd.read_csv('/tmp/AllenBrainDataset/brain_observatory_1.1_analysis_metrics.csv',encoding='utf-8')\n",
        "metrics_functional_connectivity=pd.read_csv('/tmp/AllenBrainDataset/functional_connectivity_analysis_metrics.csv',encoding='utf-8')\n",
        "channels_data = pd.read_csv('/tmp/AllenBrainDataset/channels.csv',encoding='utf-8')\n",
        "units_data = pd.read_csv('/tmp/AllenBrainDataset/units.csv',encoding='utf-8')\n",
        "\n",
        "print('Brain Observatory Dataset contains '+str(metrics_brain_observatory.shape[0])+' samples with '+str(metrics_brain_observatory.shape[1])+' features.')\n",
        "print('Functional Connectivity Dataset contains '+str(metrics_functional_connectivity.shape[0])+' samples with '+str(metrics_functional_connectivity.shape[1])+' features.')"
      ],
      "execution_count": 2,
      "outputs": [
        {
          "output_type": "stream",
          "text": [
            "Brain Observatory Dataset contains 74072 samples with 58 features.\n",
            "Functional Connectivity Dataset contains 61203 samples with 46 features.\n"
          ],
          "name": "stdout"
        }
      ]
    },
    {
      "cell_type": "markdown",
      "metadata": {
        "id": "hVptAnkgXE3N",
        "colab_type": "text"
      },
      "source": [
        "#3 - Data Preprocessing"
      ]
    },
    {
      "cell_type": "markdown",
      "metadata": {
        "id": "gNtj4vIfBRz-",
        "colab_type": "text"
      },
      "source": [
        "Define keys to retreive data from different csv files. Filter data points (\"unit\" refers to a brain cell) labeled as \"good\" quality. Also store the associated brain structure for each cell.   "
      ]
    },
    {
      "cell_type": "code",
      "metadata": {
        "id": "JFzzGFXUH2bn",
        "colab_type": "code",
        "colab": {
          "base_uri": "https://localhost:8080/",
          "height": 52
        },
        "outputId": "c62e00a5-90ad-40b1-ad15-865c725d73cc"
      },
      "source": [
        "'''\n",
        "Filtering Samples(Units) with Good Quality from Both Datasets\n",
        "Based on the quality metrics, the units in the dataset is labeled as \"good\" or \"noise\" in the file containing units information (units.csv) \n",
        "'''\n",
        "\n",
        "#keys necessary to locate variables in different csv files\n",
        "unit_id_key_metrics_files='ecephys_unit_id'\n",
        "unit_id_key_units_file='id'\n",
        "unit_quality_key_units_file='quality'\n",
        "channel_id_key_units_file='ecephys_channel_id'\n",
        "channel_id_key_channels_file='id'\n",
        "channel_structure_key_channels_file='ecephys_structure_acronym'\n",
        "\n",
        "def filter_good_data(metrics_data,units_data,channels_data,unit_id_key_metrics_files,unit_id_key_units_file,unit_quality_key_units_file,channel_id_key_units_file,channel_id_key_channels_file,channel_structure_key_channels_file):\n",
        "  '''\n",
        "  Filters units only labeled as \"good\" and with avaiable anatomical information in the Brain Observatory and Functional Connectivity Datasets (1 dataset for each function run)\n",
        "  1-Use the unit identifier in the Dataset file (Brain Observatory or Functional Connectivity)\n",
        "  2-Locate the corresponding unit in the Units file\n",
        "  3-Look at the quality value\n",
        "  4-If \"good\", find the associated channel id for the unit (ignore the unit is labeled as \"noise\")\n",
        "  5-Locate the channel in the channels file\n",
        "  6-Look at the structure info\n",
        "  7-If structure info is present, include the units to the filtered set (ignore the unit if no structure information avaiable ('nan' entry))\n",
        "  8-Filter the dataset and associated structure information \n",
        "  (ignore the unit if none or more than 1 associated entries in the units file, ignore the unit if none or more than 1 associated entries for units's channel in the channels file )\n",
        "  '''\n",
        "  structure=[]\n",
        "  good_units=[]\n",
        "  number_of_units=metrics_data.shape[0]\n",
        "\n",
        "  for unit in metrics_data[unit_id_key_metrics_files]:\n",
        "    unit_in_units_file=units_data[units_data[unit_id_key_units_file]==unit]\n",
        "    if unit_in_units_file.shape[0]==1:\n",
        "      if unit_in_units_file[unit_quality_key_units_file].to_numpy()=='good':\n",
        "        channel=unit_in_units_file[channel_id_key_units_file]\n",
        "        channnel_in_channels_file=channels_data[channels_data[channel_id_key_channels_file]==(channel.to_numpy()[0])]\n",
        "        if channnel_in_channels_file.shape[0]==1:\n",
        "          if (channnel_in_channels_file[channel_structure_key_channels_file].to_numpy().astype(str))!='nan':\n",
        "            structure.append(channnel_in_channels_file[channel_structure_key_channels_file].to_numpy().astype(str))\n",
        "            good_units.append(unit)\n",
        "        elif unit_in_units_file.shape[0]==0:\n",
        "          print('Warning: No corresponding entry found in channels file for'+str(channel))\n",
        "        else:\n",
        "          print('Warning: 2 or more corresponding entries found in channels file for'+str(channel))\n",
        "    elif unit_in_units_file.shape[0]==0:\n",
        "      print('Warning: No corresponding entry found in units file for'+str(unit))\n",
        "    else:\n",
        "      print('Warning: 2 or more corresponding entries found in units file for'+str(unit))\n",
        "\n",
        "  good_metrics=metrics_data.loc[metrics_data[unit_id_key_metrics_files].isin(good_units)]\n",
        "  structure=pd.DataFrame(structure)\n",
        "  structure.index=good_metrics.index\n",
        "\n",
        "  return good_metrics,structure\n",
        "\n",
        "'''\n",
        "Filter good units with structure information for Brain Observatory and Functional Connectivity Datasets\n",
        "'''\n",
        "metrics_brain_observatory_good,structure_brain_observatory=filter_good_data(metrics_brain_observatory,units_data,channels_data,unit_id_key_metrics_files,\n",
        "                                                                            unit_id_key_units_file,unit_quality_key_units_file,channel_id_key_units_file,channel_id_key_channels_file,channel_structure_key_channels_file)\n",
        "metrics_functional_connectivity_good,structure_functional_connectivity=filter_good_data(metrics_functional_connectivity,units_data,channels_data,unit_id_key_metrics_files,\n",
        "                                                                                        unit_id_key_units_file,unit_quality_key_units_file,channel_id_key_units_file,channel_id_key_channels_file,channel_structure_key_channels_file)\n",
        "\n",
        "print('For Brain Observatory Dataset, '+str(metrics_brain_observatory_good.shape[0])+' good units out of '+str(metrics_brain_observatory.shape[0])+' units.'  )\n",
        "print('For Functional Connectivity Dataset, '+str(metrics_functional_connectivity_good.shape[0])+' good units out of '+str(metrics_functional_connectivity.shape[0])+' units.'  )\n"
      ],
      "execution_count": 3,
      "outputs": [
        {
          "output_type": "stream",
          "text": [
            "For Brain Observatory Dataset, 54107 good units out of 74072 units.\n",
            "For Functional Connectivity Dataset, 45013 good units out of 61203 units.\n"
          ],
          "name": "stdout"
        }
      ]
    },
    {
      "cell_type": "markdown",
      "metadata": {
        "id": "dBAJAZHZEF_c",
        "colab_type": "text"
      },
      "source": [
        "Define the brain regions of interest. In this notebook, we're going to work with data from visual cortex and hippocampal formation. Visual cortex and hippocampal formation includes divisions. Associated set of labels are created based on the [Allen Mouse Brain Atlas](http://atlas.brain-map.org/atlas?atlas=1#atlas=1&plate=100960224&structure=549&x=5280.001395089286&y=3743.886369977679&zoom=-3&resolution=11.97&z=5). "
      ]
    },
    {
      "cell_type": "code",
      "metadata": {
        "id": "4NRzsYe64Ufa",
        "colab_type": "code",
        "colab": {
          "base_uri": "https://localhost:8080/",
          "height": 88
        },
        "outputId": "407ac804-4835-4c95-8252-517baf5b2c4c"
      },
      "source": [
        "'''\n",
        "Assign the labels for brain structures to be focused on this study\n",
        "7 brain structures in the visual cortex (Structures part of \"Visual Areas\" In Allen Mouse Brain Atlas)\n",
        "7 brain structures in the hippocampal formation (Structures part of \"Hippocampal Formation\" In Allen Mouse Brain Atlas, together with \"HPF\" (Hippocampal Formation), overall 7+1=8 labels)\n",
        "'''\n",
        "\n",
        "visual_cortex_labels=[\"VISp\",\"VISal\",\"VISam\",\"VISrl\",\"VISl\",\"VISpm\",\"VISli\"]\n",
        "hippocampal_formation_labels=[\"CA1\",\"DG\",\"CA3\",\"CA2\",\"SUB\",\"ProS\",\"HPF\",\"PRE\"]\n",
        "\n",
        "def filter_by_structure(good_metrics,structure,visual_cortex_labels,hippocampal_formation_labels):\n",
        "  '''\n",
        "  Filter units that are either in visual cortex and hippocampal formation (Based on the set of labels defined earlier) from both datasets\n",
        "  Output 2 sets (1 for visual cortex, 1 for hippocampal formation) from a single dataset (that contains units from many brain structures)\n",
        "  '''\n",
        "  good_metrics_visual_cortex=good_metrics.loc[structure[0].isin(visual_cortex_labels)]\n",
        "  good_metrics_hippocampal_formation=good_metrics.loc[structure[0].isin(hippocampal_formation_labels)]\n",
        "  return good_metrics_visual_cortex,good_metrics_hippocampal_formation\n",
        "\n",
        "\n",
        "'''\n",
        "Filter units in the visual cortex or hippocampal formation for Brain Observatory and Functional Connectivity Datasets\n",
        "'''\n",
        "metrics_brain_observatory_visual_cortex,metrics_brain_observatory_hippocampal_formation=filter_by_structure(metrics_brain_observatory_good,structure_brain_observatory,\n",
        "                                                                                                            visual_cortex_labels,hippocampal_formation_labels)\n",
        "metrics_functional_connectivity_visual_cortex,metrics_functional_connectivity_hippocampal_formation=filter_by_structure(metrics_functional_connectivity_good,structure_functional_connectivity,\n",
        "                                                                                                                        visual_cortex_labels,hippocampal_formation_labels)\n",
        "\n",
        "print('For Brain Observatory Dataset, '+str(metrics_brain_observatory_visual_cortex.shape[0])+' visual cortex units.')\n",
        "print('For Brain Observatory Dataset, '+str(metrics_brain_observatory_hippocampal_formation.shape[0])+' hippocampal formation units.')\n",
        "print('For Functional Connectivity Dataset, '+str(metrics_functional_connectivity_visual_cortex.shape[0])+' visual cortex units.')\n",
        "print('For Functional Connectivity Dataset, '+str(metrics_functional_connectivity_hippocampal_formation.shape[0])+' hippocampal formation units.')"
      ],
      "execution_count": 4,
      "outputs": [
        {
          "output_type": "stream",
          "text": [
            "For Brain Observatory Dataset, 19419 visual cortex units.\n",
            "For Brain Observatory Dataset, 12442 hippocampal formation units.\n",
            "For Functional Connectivity Dataset, 17669 visual cortex units.\n",
            "For Functional Connectivity Dataset, 17382 hippocampal formation units.\n"
          ],
          "name": "stdout"
        }
      ]
    },
    {
      "cell_type": "markdown",
      "metadata": {
        "id": "WBdmzaIBGyZ1",
        "colab_type": "text"
      },
      "source": [
        "Match the sample sizes for each brain region (visual cortex and hippocampal formation) in the 2 different datasets (\"Brain Observatory 1.1\" and \"Functional Connectivity\"). This will eliminate possible bias from unmatched class sizes when comparing the prediction performance from data of different experimental settings. "
      ]
    },
    {
      "cell_type": "code",
      "metadata": {
        "id": "6HAYbHRk5pNs",
        "colab_type": "code",
        "outputId": "b768bdd3-fdcf-4625-fe73-c4485dae7349",
        "colab": {
          "base_uri": "https://localhost:8080/",
          "height": 106
        }
      },
      "source": [
        "'''\n",
        "  Match datasets sizes to eliminate bias from number of samples sizes (for each brain region) associated with 2 datasets\n",
        "'''\n",
        "def match_dataset_sizes(dataset1,dataset2):\n",
        "  '''\n",
        "  Match datasets sizes from both datasets (Brain Observatory and Functional Connectivity Datasets)\n",
        "  For each brain structure (visual cortex or hippocampal formation), remove samples from the set which has more samples to equalize sample sizes for each structure\n",
        "  '''\n",
        "  dataset1_size=dataset1.shape[0]\n",
        "  dataset2_size=dataset2.shape[0]\n",
        "  \n",
        "  if dataset1_size>dataset2_size:\n",
        "    dataset2_matched=dataset2\n",
        "    dataset1_shuffled=dataset1.sample(frac=1)\n",
        "    dataset1_matched=dataset1_shuffled[:dataset2_size]\n",
        "  elif dataset1_size<dataset2_size:\n",
        "    dataset1_matched=dataset1\n",
        "    dataset2_shuffled=dataset2.sample(frac=1)\n",
        "    dataset2_matched=dataset2_shuffled[:dataset1_size]\n",
        "  else:\n",
        "    dataset1_matched=dataset1\n",
        "    dataset2_matched=dataset2\n",
        "\n",
        "  return dataset1_matched,dataset2_matched\n",
        "\n",
        "'''\n",
        "Match sample sizes for visual cortex and hippocampal formation sets for both datasets\n",
        "'''\n",
        "\n",
        "metrics_brain_observatory_visual_cortex_matched,metrics_functional_connectivity_visual_cortex_matched=match_dataset_sizes(metrics_brain_observatory_visual_cortex,\n",
        "                                                                                                                          metrics_functional_connectivity_visual_cortex)\n",
        "metrics_brain_observatory_hippocampal_formation_matched,metrics_functional_connectivity_hippocampal_formation_matched=match_dataset_sizes(metrics_brain_observatory_hippocampal_formation,\n",
        "                                                                                                                                          metrics_functional_connectivity_hippocampal_formation)\n",
        "\n",
        "print('After matching sample sizes from datasets,')\n",
        "print('For Brain Observatory Dataset, '+str(metrics_brain_observatory_visual_cortex_matched.shape[0])+' visual cortex units.')\n",
        "print('For Brain Observatory Dataset, '+str(metrics_brain_observatory_hippocampal_formation_matched.shape[0])+' hippocampal formation units.')\n",
        "print('For Functional Connectivity Dataset, '+str(metrics_functional_connectivity_visual_cortex_matched.shape[0])+' visual cortex units.')\n",
        "print('For Functional Connectivity Dataset, '+str(metrics_functional_connectivity_hippocampal_formation_matched.shape[0])+' hippocampal formation units.')\n"
      ],
      "execution_count": 5,
      "outputs": [
        {
          "output_type": "stream",
          "text": [
            "After matching sample sizes from datasets,\n",
            "For Brain Observatory Dataset, 17669 visual cortex units.\n",
            "For Brain Observatory Dataset, 12442 hippocampal formation units.\n",
            "For Functional Connectivity Dataset, 17669 visual cortex units.\n",
            "For Functional Connectivity Dataset, 12442 hippocampal formation units.\n"
          ],
          "name": "stdout"
        }
      ]
    },
    {
      "cell_type": "markdown",
      "metadata": {
        "id": "Wh1xighXXlbt",
        "colab_type": "text"
      },
      "source": [
        "Remove any columns which are entirely missing and remove the column associated with unit id. \n",
        "\n",
        "Following abbrevitions are used from now on: Brain Observatory 1.1 dataset=bo, Functional Connectivity dataset=fc,\n",
        "Visual Cortex=vc, hippocampal formation=hf"
      ]
    },
    {
      "cell_type": "code",
      "metadata": {
        "id": "kfxWPcYaGXM_",
        "colab_type": "code",
        "colab": {
          "base_uri": "https://localhost:8080/",
          "height": 106
        },
        "outputId": "706e1d1a-3aef-4755-b08b-4aadcff0748e"
      },
      "source": [
        "'''\n",
        "For each 2 datsets for 2 structures (4 sets overall)\n",
        "1-Drop columns from which all empty values (if any)\n",
        "2-Drop the column associated with unit id\n",
        "3-Drop columns with 0 standard deviation(across both brain regions in each dataset)\n",
        "\n",
        "\n",
        "From this point on, \n",
        "Brain Observatory dataset is abbreviated as 'bo', Functional Connectivity dataset is abbreviated as 'fc',\n",
        "Visual Cortex is abbreviated as 'vc', hippocampal formation is abbreviated as 'hf'.\n",
        "'''\n",
        "metrics_bo_vc_matched_drop=metrics_brain_observatory_visual_cortex_matched.dropna(axis=1,how='all')\n",
        "metrics_bo_vc_matched_drop=metrics_bo_vc_matched_drop.drop(columns=[unit_id_key_metrics_files])\n",
        "metrics_fc_vc_matched_drop=metrics_functional_connectivity_visual_cortex_matched.dropna(axis=1,how='all')\n",
        "metrics_fc_vc_matched_drop=metrics_fc_vc_matched_drop.drop(columns=[unit_id_key_metrics_files])\n",
        "metrics_bo_hf_matched_drop=metrics_brain_observatory_hippocampal_formation_matched.dropna(axis=1,how='all')\n",
        "metrics_bo_hf_matched_drop=metrics_bo_hf_matched_drop.drop(columns=[unit_id_key_metrics_files])\n",
        "metrics_fc_hf_matched_drop=metrics_functional_connectivity_hippocampal_formation_matched.dropna(axis=1,how='all')\n",
        "metrics_fc_hf_matched_drop=metrics_fc_hf_matched_drop.drop(columns=[unit_id_key_metrics_files])\n",
        "\n",
        "#Filter columns with standard deviation larger than 0. Columns with standard deviation of 0 won't be useful in classification and may create errors (e.g. singular matrix)\n",
        "metrics_bo_vc_hf_matched_drop=pd.concat([metrics_bo_vc_matched_drop,metrics_bo_hf_matched_drop],sort=False)\n",
        "metrics_bo_vc_matched_drop=metrics_bo_vc_matched_drop.loc[:, metrics_bo_vc_hf_matched_drop.std() > 0]\n",
        "metrics_bo_hf_matched_drop=metrics_bo_hf_matched_drop.loc[:, metrics_bo_vc_hf_matched_drop.std() > 0]\n",
        "\n",
        "metrics_fc_vc_hf_matched_drop=pd.concat([metrics_fc_vc_matched_drop,metrics_fc_hf_matched_drop],sort=False)\n",
        "metrics_fc_vc_matched_drop=metrics_fc_vc_matched_drop.loc[:, metrics_fc_vc_hf_matched_drop.std() > 0]\n",
        "metrics_fc_hf_matched_drop=metrics_fc_hf_matched_drop.loc[:, metrics_fc_vc_hf_matched_drop.std() > 0]\n",
        "\n",
        "print('After removing empty columns and unit id column,')\n",
        "print('For Brain Observatory Dataset, '+str(metrics_bo_vc_matched_drop.shape[0])+' visual cortex units, with '+str(metrics_bo_vc_matched_drop.shape[1])+' features.')\n",
        "print('For Brain Observatory Dataset, '+str(metrics_bo_hf_matched_drop.shape[0])+' hippocampal formation, with '+str(metrics_bo_hf_matched_drop.shape[1])+' features.')\n",
        "print('For Functional Connectivity Dataset, '+str(metrics_fc_vc_matched_drop.shape[0])+' visual cortex units, with '+str(metrics_fc_vc_matched_drop.shape[1])+' features.')\n",
        "print('For Functional Connectivity Dataset, '+str(metrics_fc_hf_matched_drop.shape[0])+' hippocampal formation, with '+str(metrics_fc_hf_matched_drop.shape[1])+' features.')"
      ],
      "execution_count": 6,
      "outputs": [
        {
          "output_type": "stream",
          "text": [
            "After removing empty columns and unit id column,\n",
            "For Brain Observatory Dataset, 17669 visual cortex units, with 56 features.\n",
            "For Brain Observatory Dataset, 12442 hippocampal formation, with 56 features.\n",
            "For Functional Connectivity Dataset, 17669 visual cortex units, with 40 features.\n",
            "For Functional Connectivity Dataset, 12442 hippocampal formation, with 40 features.\n"
          ],
          "name": "stdout"
        }
      ]
    },
    {
      "cell_type": "markdown",
      "metadata": {
        "id": "cYogyUwwYdGg",
        "colab_type": "text"
      },
      "source": [
        "Split each dataset into 3 divisions (training, development (or validation) and testing) based on the defined split ratio."
      ]
    },
    {
      "cell_type": "code",
      "metadata": {
        "id": "L7UKrKdeGdtB",
        "colab_type": "code",
        "colab": {
          "base_uri": "https://localhost:8080/",
          "height": 106
        },
        "outputId": "20389e55-c636-4a56-ee89-0958e655db9e"
      },
      "source": [
        "'''\n",
        "Calculation of training, development and testing sets for visual cortex and hippocampal formation\n",
        "'''\n",
        "split = [0.8,0.1,0.1] # Split ratio for training, development and testing sets\n",
        "\n",
        "def split_data(dataset,split):\n",
        "  '''\n",
        "  Split a dataset based onto training,developent and testing sets based on the split ratio\n",
        "  1- Shuffle the dataset\n",
        "  2- Partition the dataset into 3 sets\n",
        "  '''\n",
        "  dataset_shuffled=dataset.sample(frac=1)\n",
        "  train_size=int(dataset_shuffled.shape[0]*split[0])\n",
        "  dev_size=int(dataset_shuffled.shape[0]*split[1])\n",
        "  test_size=int(dataset_shuffled.shape[0]-train_size-dev_size)\n",
        "  train_dataset=dataset_shuffled.iloc[:train_size,:]\n",
        "  train_dataset.astype('float64')\n",
        "  dev_dataset=dataset_shuffled.iloc[train_size:train_size+dev_size,:]\n",
        "  dev_dataset.astype('float64')\n",
        "  test_dataset=dataset_shuffled.iloc[-test_size:,:]\n",
        "  test_dataset.astype('float64')\n",
        "  return train_dataset,dev_dataset,test_dataset\n",
        "\n",
        "\n",
        "'''\n",
        "Splitting each 4 sets onto 3\n",
        "'''\n",
        "\n",
        "train_data_bo_vc,dev_data_bo_vc,test_data_bo_vc=split_data(metrics_bo_vc_matched_drop,split)\n",
        "train_data_bo_hf,dev_data_bo_hf,test_data_bo_hf=split_data(metrics_bo_hf_matched_drop,split)\n",
        "train_data_fc_vc,dev_data_fc_vc,test_data_fc_vc=split_data(metrics_fc_vc_matched_drop,split)\n",
        "train_data_fc_hf,dev_data_fc_hf,test_data_fc_hf=split_data(metrics_fc_hf_matched_drop,split)\n",
        "\n",
        "print('After splitting,')\n",
        "print('For Brain Observatory visual cortex units, train='+str(train_data_bo_vc.shape[0])+', dev='+str(dev_data_bo_vc.shape[0])+', test='+str(test_data_bo_vc.shape[0])+ ' samples.')\n",
        "print('For Brain Observatory hippocampal formation units, train='+str(train_data_bo_hf.shape[0])+', dev='+str(dev_data_bo_hf.shape[0])+', test='+str(test_data_bo_hf.shape[0])+ ' samples.')\n",
        "print('For Functional Connectivity visual cortex units, train='+str(train_data_fc_vc.shape[0])+', dev='+str(dev_data_fc_vc.shape[0])+', test='+str(test_data_fc_vc.shape[0])+ ' samples.')\n",
        "print('For Functional Connectivity hippocampal formation units, train='+str(train_data_fc_hf.shape[0])+', dev='+str(dev_data_fc_hf.shape[0])+', test='+str(test_data_fc_hf.shape[0])+ ' samples.')"
      ],
      "execution_count": 7,
      "outputs": [
        {
          "output_type": "stream",
          "text": [
            "After splitting,\n",
            "For Brain Observatory visual cortex units, train=14135, dev=1766, test=1768 samples.\n",
            "For Brain Observatory hippocampal formation units, train=9953, dev=1244, test=1245 samples.\n",
            "For Functional Connectivity visual cortex units, train=14135, dev=1766, test=1768 samples.\n",
            "For Functional Connectivity hippocampal formation units, train=9953, dev=1244, test=1245 samples.\n"
          ],
          "name": "stdout"
        }
      ]
    },
    {
      "cell_type": "markdown",
      "metadata": {
        "id": "Srg0ZsJLY-gC",
        "colab_type": "text"
      },
      "source": [
        "Calculate imputation parameters from the training datasets. And perform data imputation on the missing data based on these parameters. Continuous variables are imputed with the mean, whereas variables of discrete or categorical nature are imputed with the mode. "
      ]
    },
    {
      "cell_type": "code",
      "metadata": {
        "id": "thH2vptKZKnM",
        "colab_type": "code",
        "colab": {
          "base_uri": "https://localhost:8080/",
          "height": 212
        },
        "outputId": "6da947c1-9ff2-4612-8e1f-071dcb91a15b"
      },
      "source": [
        "'''\n",
        "Calculate imputation parameters(from training set) and apply imputation. \n",
        "For continuous variables, use median imputation. For discrete or categorical variables use mode imputation. \n",
        "'''\n",
        "#Keys for discrete and categorical variables\n",
        "discrete_or_caterogical_variables_bo=['pref_sf_sg','pref_tf_dg','pref_ori_dg','pref_ori_sg','on_screen_rf','pref_image_ns','pref_phase_sg',\n",
        "                                   'pref_sf_multi_sg','pref_tf_multi_dg','pref_ori_multi_dg','pref_ori_multi_sg','pref_phase_multi_sg','pref_images_multi_ns']\n",
        "\n",
        "discrete_or_caterogical_variables_fc=['pref_dir_dm','pref_ori_dg','on_screen_rf','pref_speed_dm','pref_dir_multi_dm',\n",
        "                                      'pref_ori_multi_dg','pref_speed_multi_dm']\n",
        "\n",
        "def get_imputation_parameters(dataset1,dataset2,discrete_or_caterogical_variables):\n",
        "  '''\n",
        "  Get imputation parameters for each feature\n",
        "  Entire training dataset is used because there are overlapping features in the datasets, where these features should be processed in the same way across datasets. \n",
        "  Median imputation is chosen because the dataset contains numeric (float and integer) and boolean variables. And also is a fast method of imputation and is robust to outliers.\n",
        "  '''\n",
        "  dataset=pd.concat([dataset1,dataset2],sort=False)\n",
        "  imputation_parameters=dataset.median()\n",
        "  imputation_parameters_mode=dataset[discrete_or_caterogical_variables].mode(dropna=True)\n",
        "  imputation_parameters[discrete_or_caterogical_variables]=(imputation_parameters_mode.T.squeeze())[discrete_or_caterogical_variables]\n",
        "\n",
        "  return imputation_parameters\n",
        "\n",
        "def imputate_dataset(dataset,imputation_parameters):\n",
        "  '''\n",
        "  Apply imputation parameters for imputating missing values\n",
        "  And convert the dataframe to float type for further processing\n",
        "  '''\n",
        "  dataset_keys=dataset.keys()\n",
        "  imputation_vector=imputation_parameters[dataset_keys]\n",
        "  dataset=dataset.fillna(imputation_vector)\n",
        "  dataset=dataset.astype('float64')\n",
        "  return dataset\n",
        "\n",
        "\n",
        "print('Before imputation,')\n",
        "print('For Brain Observatory visual cortex units, train='+'%.2f'%(train_data_bo_vc.isnull().sum().sum()/train_data_bo_vc.shape[0]/train_data_bo_vc.shape[1]*100)+\n",
        "      '%, dev='+'%.2f'%(dev_data_bo_vc.isnull().sum().sum()/dev_data_bo_vc.shape[0]/dev_data_bo_vc.shape[1]*100)+\n",
        "      '%, test='+'%.2f'%(test_data_bo_vc.isnull().sum().sum()/test_data_bo_vc.shape[0]/test_data_bo_vc.shape[1]*100)+ '% missing values.')\n",
        "print('For Brain Observatory hippocampal formation units, train='+'%.2f'%(train_data_bo_hf.isnull().sum().sum()/train_data_bo_hf.shape[0]/train_data_bo_hf.shape[1]*100)+\n",
        "      '%, dev='+'%.2f'%(dev_data_bo_hf.isnull().sum().sum()/dev_data_bo_hf.shape[0]/dev_data_bo_hf.shape[1]*100)+\n",
        "      '%, test='+'%.2f'%(test_data_bo_hf.isnull().sum().sum()/test_data_bo_hf.shape[0]/test_data_bo_hf.shape[1]*100)+ '% missing values.')\n",
        "print('For Functional Connectivity visual cortex units, train='+'%.2f'%(train_data_fc_vc.isnull().sum().sum()/train_data_fc_vc.shape[0]/train_data_fc_vc.shape[1]*100)+\n",
        "      '%, dev='+'%.2f'%(dev_data_fc_vc.isnull().sum().sum()/dev_data_fc_vc.shape[0]/dev_data_fc_vc.shape[1]*100)+\n",
        "      '%, test='+'%.2f'%(test_data_fc_vc.isnull().sum().sum()/test_data_fc_vc.shape[0]/test_data_fc_vc.shape[1]*100)+ '% missing values.')\n",
        "print('For Functional Connectivity hippocampal formation units, train='+'%.2f'%(train_data_fc_hf.isnull().sum().sum()/train_data_fc_hf.shape[0]/train_data_fc_hf.shape[1]*100)+\n",
        "      '%, dev='+'%.2f'%(dev_data_fc_hf.isnull().sum().sum()/dev_data_fc_hf.shape[0]/dev_data_fc_hf.shape[1]*100)+\n",
        "      '%, test='+'%.2f'%(test_data_fc_hf.isnull().sum().sum()/test_data_fc_hf.shape[0]/test_data_fc_hf.shape[1]*100)+ '% missing values.')\n",
        "'''\n",
        "Get imputation parameters and perform imputation for all sets based on the imputation parameters\n",
        "'''\n",
        "imputation_parameters_bo=get_imputation_parameters(train_data_bo_vc,train_data_bo_hf,discrete_or_caterogical_variables_bo)\n",
        "imputation_parameters_fc=get_imputation_parameters(train_data_fc_vc,train_data_fc_hf,discrete_or_caterogical_variables_fc)\n",
        "\n",
        "train_data_bo_vc_imp=imputate_dataset(train_data_bo_vc,imputation_parameters_bo)\n",
        "train_data_fc_vc_imp=imputate_dataset(train_data_fc_vc,imputation_parameters_fc)\n",
        "train_data_bo_hf_imp=imputate_dataset(train_data_bo_hf,imputation_parameters_bo)\n",
        "train_data_fc_hf_imp=imputate_dataset(train_data_fc_hf,imputation_parameters_fc)\n",
        "\n",
        "dev_data_bo_vc_imp=imputate_dataset(dev_data_bo_vc,imputation_parameters_bo)\n",
        "dev_data_fc_vc_imp=imputate_dataset(dev_data_fc_vc,imputation_parameters_fc)\n",
        "dev_data_bo_hf_imp=imputate_dataset(dev_data_bo_hf,imputation_parameters_bo)\n",
        "dev_data_fc_hf_imp=imputate_dataset(dev_data_fc_hf,imputation_parameters_fc)\n",
        "\n",
        "test_data_bo_vc_imp=imputate_dataset(test_data_bo_vc,imputation_parameters_bo)\n",
        "test_data_fc_vc_imp=imputate_dataset(test_data_fc_vc,imputation_parameters_fc)\n",
        "test_data_bo_hf_imp=imputate_dataset(test_data_bo_hf,imputation_parameters_bo)\n",
        "test_data_fc_hf_imp=imputate_dataset(test_data_fc_hf,imputation_parameters_fc)\n",
        "\n",
        "print('\\nAfter imputation,')\n",
        "print('For Brain Observatory visual cortex units, train='+str(train_data_bo_vc_imp.isnull().sum().sum())+', dev='+str(dev_data_bo_vc_imp.isnull().sum().sum())+\n",
        "      ', test='+str(test_data_bo_vc_imp.isnull().sum().sum())+ ' missing values.')\n",
        "print('For Brain Observatory hippocampal formation units, train='+str(train_data_bo_hf_imp.isnull().sum().sum())+', dev='+str(dev_data_bo_hf_imp.isnull().sum().sum())+\n",
        "      ', test='+str(test_data_bo_hf_imp.isnull().sum().sum())+ ' missing values.')\n",
        "print('For Functional Connectivity visual cortex units, train='+str(train_data_fc_vc_imp.isnull().sum().sum())+', dev='+str(dev_data_fc_vc_imp.isnull().sum().sum())+\n",
        "      ', test='+str(test_data_fc_vc_imp.isnull().sum().sum())+ ' missing values.')\n",
        "print('For Functional Connectivity hippocampal formation units, train='+str(train_data_fc_hf_imp.isnull().sum().sum())+', dev='+str(dev_data_fc_hf_imp.isnull().sum().sum())+\n",
        "      ', test='+str(test_data_fc_hf_imp.isnull().sum().sum())+ ' missing values.')"
      ],
      "execution_count": 8,
      "outputs": [
        {
          "output_type": "stream",
          "text": [
            "Before imputation,\n",
            "For Brain Observatory visual cortex units, train=7.46%, dev=7.50%, test=7.52% missing values.\n",
            "For Brain Observatory hippocampal formation units, train=8.58%, dev=8.19%, test=8.71% missing values.\n",
            "For Functional Connectivity visual cortex units, train=11.19%, dev=11.59%, test=11.35% missing values.\n",
            "For Functional Connectivity hippocampal formation units, train=11.99%, dev=11.78%, test=12.60% missing values.\n",
            "\n",
            "After imputation,\n",
            "For Brain Observatory visual cortex units, train=0, dev=0, test=0 missing values.\n",
            "For Brain Observatory hippocampal formation units, train=0, dev=0, test=0 missing values.\n",
            "For Functional Connectivity visual cortex units, train=0, dev=0, test=0 missing values.\n",
            "For Functional Connectivity hippocampal formation units, train=0, dev=0, test=0 missing values.\n"
          ],
          "name": "stdout"
        }
      ]
    },
    {
      "cell_type": "markdown",
      "metadata": {
        "id": "uSd2T0M5ZxwT",
        "colab_type": "text"
      },
      "source": [
        "Calculate normalization(or scaling) parameters from the training datasets. And perform data normalization based on these parameters. Normalization is performed by scaling mean to 0 and standard deviation to 1."
      ]
    },
    {
      "cell_type": "code",
      "metadata": {
        "id": "-by-MvWAPTIi",
        "colab_type": "code",
        "colab": {
          "base_uri": "https://localhost:8080/",
          "height": 301
        },
        "outputId": "7a342720-0e1c-42fa-b8c6-4a2d3ceee9bd"
      },
      "source": [
        "'''\n",
        "Calculate normalization parameters(from training set) and apply normalization. \n",
        "Normalization method: Mean to 0, standard deviation to 1\n",
        "'''\n",
        "def get_normalization_parameters(dataset1,dataset2):\n",
        "  '''\n",
        "  Get normalization parameters for each feature\n",
        "  Entire training dataset is used because there are overlapping features in the datasets, where normalization within across sets (rather than within sets) is more appropriate\n",
        "  The normalization is performed by scaling with the absolute maximum value of a feature in the total dataset.\n",
        "  '''\n",
        "  dataset=pd.concat([dataset1,dataset2],sort=False)\n",
        "  normalization_parameters_mean = dataset.mean()\n",
        "  normalization_parameters_std = dataset.std()\n",
        "  normalization_parameters=pd.concat([normalization_parameters_mean,normalization_parameters_std],sort=False,axis=1)\n",
        "  return normalization_parameters\n",
        "\n",
        "def normalize_dataset(dataset,normalization_parameters):\n",
        "  '''\n",
        "  Apply normalization parameters for imputating missing values\n",
        "  Normalize features which have a normalization factor larger than 0 (do prevent 0/0 division, that may happen in boolean variables especially)\n",
        "  '''\n",
        "  dataset_keys=dataset.keys()\n",
        "  normalization_parameters_mean = normalization_parameters.iloc[:,0]\n",
        "  normalization_parameters_std = normalization_parameters.iloc[:,1]\n",
        "  dataset_norm = (dataset-normalization_parameters_mean[dataset_keys])/ (normalization_parameters_std[dataset_keys])\n",
        "  #If there is any 'nan' values to 0/0 divisions, fill them with 0\n",
        "  if (dataset_norm.isnull().sum().sum())>0:\n",
        "    dataset_norm=dataset_norm.fillna(0)\n",
        "\n",
        "  return dataset_norm\n",
        "\n",
        "print('Before normalization,')\n",
        "print('For Brain Observatory visual cortex units, train='+'%.2f'%(train_data_bo_vc_imp.max().max())+', dev='+'%.2f'%(dev_data_bo_vc_imp.max().max())+\n",
        "      ', test='+'%.2f'%(test_data_bo_vc_imp.max().max())+ ' max values across features.')\n",
        "print('For Brain Observatory hippocampal formation units, train='+'%.2f'%(train_data_bo_hf_imp.max().max())+', dev='+'%.2f'%(dev_data_bo_hf_imp.max().max())+\n",
        "      ', test='+'%.2f'%(test_data_bo_hf_imp.max().max())+ ' max values across features.')\n",
        "print('For Functional Connectivity visual cortex units, train='+'%.2f'%(train_data_fc_vc_imp.max().max())+', dev='+'%.2f'%(dev_data_fc_vc_imp.max().max())+\n",
        "      ', test='+'%.2f'%(test_data_fc_vc_imp.max().max())+ ' max values across features.')\n",
        "print('For Functional Connectivity hippocampal formation units, train='+'%.2f'%(train_data_fc_hf_imp.max().max())+', dev='+'%.2f'%(dev_data_fc_hf_imp.max().max())+\n",
        "      ', test='+'%.2f'%(test_data_fc_hf_imp.max().max())+ ' max values across features.')\n",
        "\n",
        "\n",
        "'''\n",
        "Get normalization parameters and perform normalization for all sets based on the normalization parameters\n",
        "'''\n",
        "normalization_parameters_bo=get_normalization_parameters(train_data_bo_vc_imp,train_data_bo_hf_imp)\n",
        "normalization_parameters_fc=get_normalization_parameters(train_data_fc_vc_imp,train_data_fc_hf_imp)\n",
        "\n",
        "train_data_bo_vc_imp_norm=normalize_dataset(train_data_bo_vc_imp,normalization_parameters_bo)\n",
        "train_data_fc_vc_imp_norm=normalize_dataset(train_data_fc_vc_imp,normalization_parameters_fc)\n",
        "train_data_bo_hf_imp_norm=normalize_dataset(train_data_bo_hf_imp,normalization_parameters_bo)\n",
        "train_data_fc_hf_imp_norm=normalize_dataset(train_data_fc_hf_imp,normalization_parameters_fc)\n",
        "\n",
        "dev_data_bo_vc_imp_norm=normalize_dataset(dev_data_bo_vc_imp,normalization_parameters_bo)\n",
        "dev_data_fc_vc_imp_norm=normalize_dataset(dev_data_fc_vc_imp,normalization_parameters_fc)\n",
        "dev_data_bo_hf_imp_norm=normalize_dataset(dev_data_bo_hf_imp,normalization_parameters_bo)\n",
        "dev_data_fc_hf_imp_norm=normalize_dataset(dev_data_fc_hf_imp,normalization_parameters_fc)\n",
        "\n",
        "test_data_bo_vc_imp_norm=normalize_dataset(test_data_bo_vc_imp,normalization_parameters_bo)\n",
        "test_data_fc_vc_imp_norm=normalize_dataset(test_data_fc_vc_imp,normalization_parameters_fc)\n",
        "test_data_bo_hf_imp_norm=normalize_dataset(test_data_bo_hf_imp,normalization_parameters_bo)\n",
        "test_data_fc_hf_imp_norm=normalize_dataset(test_data_fc_hf_imp,normalization_parameters_fc)\n",
        "\n",
        "\n",
        "print('\\nAfter normalization,')\n",
        "\n",
        "print('For Brain Observatory visual cortex units, train='+'%.2f'%(train_data_bo_vc_imp_norm.mean().mean())+', dev='+'%.2f'%(dev_data_bo_vc_imp_norm.mean().mean())+\n",
        "      ', test='+'%.2f'%(test_data_bo_vc_imp_norm.mean().mean())+ ' mean across features.')\n",
        "print('For Brain Observatory hippocampal formation units, train='+'%.2f'%(train_data_bo_hf_imp_norm.mean().mean())+', dev='+'%.2f'%(dev_data_bo_hf_imp_norm.mean().mean())+\n",
        "      ', test='+'%.2f'%(test_data_bo_hf_imp_norm.mean().mean())+ ' mean across features.')\n",
        "print('For Functional Connectivity visual cortex units, train='+'%.2f'%(train_data_fc_vc_imp_norm.mean().mean())+', dev='+'%.2f'%(dev_data_fc_vc_imp_norm.mean().mean())+\n",
        "      ', test='+'%.2f'%(test_data_fc_vc_imp_norm.mean().mean())+ ' mean across features.')\n",
        "print('For Functional Connectivity hippocampal formation units, train='+'%.2f'%(train_data_fc_hf_imp_norm.mean().mean())+', dev='+'%.2f'%(dev_data_fc_hf_imp_norm.mean().mean())+\n",
        "      ', test='+'%.2f'%(test_data_fc_hf_imp_norm.mean().mean())+ ' mean across features.')\n",
        "\n",
        "print('\\nFor Brain Observatory visual cortex units, train='+'%.2f'%(train_data_bo_vc_imp_norm.std().mean())+', dev='+'%.2f'%(dev_data_bo_vc_imp_norm.std().mean())+\n",
        "      ', test='+'%.2f'%(test_data_bo_vc_imp_norm.std().mean())+ ' standard deviation (mean) across features.')\n",
        "print('For Brain Observatory hippocampal formation units, train='+'%.2f'%(train_data_bo_hf_imp_norm.std().mean())+', dev='+'%.2f'%(dev_data_bo_hf_imp_norm.std().mean())+\n",
        "      ', test='+'%.2f'%(test_data_bo_hf_imp_norm.std().mean())+ ' standard deviation (mean) across features.')\n",
        "print('For Functional Connectivity visual cortex units, train='+'%.2f'%(train_data_fc_vc_imp_norm.std().mean())+', dev='+'%.2f'%(dev_data_fc_vc_imp_norm.std().mean())+\n",
        "      ', test='+'%.2f'%(test_data_fc_vc_imp_norm.std().mean())+ ' standard deviation (mean) across features.')\n",
        "print('For Functional Connectivity hippocampal formation units, train='+'%.2f'%(train_data_fc_hf_imp_norm.std().mean())+', dev='+'%.2f'%(dev_data_fc_hf_imp_norm.std().mean())+\n",
        "      ', test='+'%.2f'%(test_data_fc_hf_imp_norm.std().mean())+ ' standard deviation (mean) across features.')"
      ],
      "execution_count": 9,
      "outputs": [
        {
          "output_type": "stream",
          "text": [
            "Before normalization,\n",
            "For Brain Observatory visual cortex units, train=74751.51, dev=67906.10, test=42386.98 max values across features.\n",
            "For Brain Observatory hippocampal formation units, train=96097.97, dev=69855.24, test=50049.03 max values across features.\n",
            "For Functional Connectivity visual cortex units, train=76990.74, dev=39128.34, test=40829.22 max values across features.\n",
            "For Functional Connectivity hippocampal formation units, train=77055.99, dev=77653.42, test=70678.56 max values across features.\n",
            "\n",
            "After normalization,\n",
            "For Brain Observatory visual cortex units, train=0.01, dev=0.00, test=0.00 mean across features.\n",
            "For Brain Observatory hippocampal formation units, train=-0.01, dev=-0.02, test=-0.01 mean across features.\n",
            "For Functional Connectivity visual cortex units, train=-0.01, dev=-0.01, test=0.01 mean across features.\n",
            "For Functional Connectivity hippocampal formation units, train=0.01, dev=0.02, test=0.04 mean across features.\n",
            "\n",
            "For Brain Observatory visual cortex units, train=0.92, dev=0.94, test=0.89 standard deviation (mean) across features.\n",
            "For Brain Observatory hippocampal formation units, train=1.06, dev=1.05, test=1.04 standard deviation (mean) across features.\n",
            "For Functional Connectivity visual cortex units, train=0.93, dev=0.88, test=1.55 standard deviation (mean) across features.\n",
            "For Functional Connectivity hippocampal formation units, train=1.03, dev=1.01, test=2.20 standard deviation (mean) across features.\n"
          ],
          "name": "stdout"
        }
      ]
    },
    {
      "cell_type": "markdown",
      "metadata": {
        "id": "iE3g9VKRVx_2",
        "colab_type": "text"
      },
      "source": [
        "Combine data and labels associated with 2 different classes (\"Visual Cortex\" and \"Hippocampal Formation\") for train/development/test sets for Brain Observatory 1.1 and Functional Connectivity Datasets."
      ]
    },
    {
      "cell_type": "code",
      "metadata": {
        "id": "QOBUO-qEa3Q3",
        "colab_type": "code",
        "outputId": "ee3397e9-5c14-48bf-e2cf-4cb824e15465",
        "colab": {
          "base_uri": "https://localhost:8080/",
          "height": 52
        }
      },
      "source": [
        "'''\n",
        "Create datasets and labels for training, development and testing by concatenating data from both visual cortex and hippocampal formation, for Brain Observatory and Functional Connectivity datasets\n",
        "Label Visual Cortex with '0' and hippocampal formation with '1'\n",
        "'''\n",
        "train_data_bo=pd.concat([train_data_bo_vc_imp_norm,train_data_bo_hf_imp_norm],sort=False)\n",
        "train_label_bo=np.concatenate((np.zeros(train_data_bo_vc_imp_norm.shape[0]),np.ones(train_data_bo_hf_imp_norm.shape[0])))\n",
        "\n",
        "train_data_fc=pd.concat([train_data_fc_vc_imp_norm,train_data_fc_hf_imp_norm],sort=False)\n",
        "train_label_fc=np.concatenate((np.zeros(train_data_fc_vc_imp_norm.shape[0]),np.ones(train_data_fc_hf_imp_norm.shape[0])))\n",
        "\n",
        "dev_data_bo=pd.concat([dev_data_bo_vc_imp_norm,dev_data_bo_hf_imp_norm],sort=False)\n",
        "dev_label_bo=np.concatenate((np.zeros(dev_data_bo_vc_imp_norm.shape[0]),np.ones(dev_data_bo_hf_imp_norm.shape[0])))\n",
        "\n",
        "dev_data_fc=pd.concat([dev_data_fc_vc_imp_norm,dev_data_fc_hf_imp_norm],sort=False)\n",
        "dev_label_fc=np.concatenate((np.zeros(dev_data_fc_vc_imp_norm.shape[0]),np.ones(dev_data_fc_hf_imp_norm.shape[0])))\n",
        "\n",
        "test_data_bo=pd.concat([test_data_bo_vc_imp_norm,test_data_bo_hf_imp_norm],sort=False)\n",
        "test_label_bo=np.concatenate((np.zeros(test_data_bo_vc_imp_norm.shape[0]),np.ones(test_data_bo_hf_imp_norm.shape[0])))\n",
        "\n",
        "test_data_fc=pd.concat([test_data_fc_vc_imp_norm,test_data_fc_hf_imp_norm],sort=False)\n",
        "test_label_fc=np.concatenate((np.zeros(test_data_fc_vc_imp_norm.shape[0]),np.ones(test_data_fc_hf_imp_norm.shape[0])))\n",
        "\n",
        "print('For Brain Observatory, train='+str(train_data_bo.shape[0])+', dev='+str(dev_data_bo.shape[0])+', test='+str(test_data_bo.shape[0])+ ' samples')\n",
        "print('For Functional Connectivity, train='+str(train_data_fc.shape[0])+', dev='+str(dev_data_fc.shape[0])+', test='+str(test_data_fc.shape[0])+ ' samples')"
      ],
      "execution_count": 10,
      "outputs": [
        {
          "output_type": "stream",
          "text": [
            "For Brain Observatory, train=24088, dev=3010, test=3013 samples\n",
            "For Functional Connectivity, train=24088, dev=3010, test=3013 samples\n"
          ],
          "name": "stdout"
        }
      ]
    },
    {
      "cell_type": "markdown",
      "metadata": {
        "id": "3qbDOnIpWja-",
        "colab_type": "text"
      },
      "source": [
        "#4 - Modelling"
      ]
    },
    {
      "cell_type": "markdown",
      "metadata": {
        "id": "rvns8DYqWsAA",
        "colab_type": "text"
      },
      "source": [
        "Logistic Regression (from statsmodels library) and Hyperparameter Tuning Using Grid Search;\n",
        "Model Selection Criterion: Accuracy on Development Set"
      ]
    },
    {
      "cell_type": "code",
      "metadata": {
        "id": "xvbWpcZ27bXd",
        "colab_type": "code",
        "colab": {}
      },
      "source": [
        "'''\n",
        "A custom grid search function for logistic regression model from statsmodels. Statmodels (instead of sklearn) library is selected because it provides statistical values for regression coefficients.\n",
        "'''\n",
        "def logistic_regression_grid_search(train_data,train_label,dev_data,dev_label):\n",
        "  method_list=['l1','l1_cvxopt_cp']\n",
        "  alpha_list=[0,1e-8,1e-6,1e-4,1e-2,1,1e2,1e4]\n",
        "  performance=dict()\n",
        "\n",
        "  best_log_res_model_dev_acc=0\n",
        "  for method_log_res in method_list:\n",
        "    for alpha_log_res in alpha_list:\n",
        "      log_res_model=dm.Logit(train_label, train_data)\n",
        "      log_res_model_result = log_res_model.fit_regularized(method=method_log_res,alpha=alpha_log_res,disp=False)\n",
        "      log_res_model_dev_label=np.around(log_res_model_result.predict(dev_data))\n",
        "      log_res_model_dev_acc=accuracy_score(dev_label, log_res_model_dev_label)\n",
        "      if log_res_model_dev_acc>best_log_res_model_dev_acc:\n",
        "        best_log_res_model_dev_acc=log_res_model_dev_acc\n",
        "        best_log_res_model=log_res_model_result\n",
        "        best_log_res_model_hyperparam=dict(method=method_log_res,alpha=alpha_log_res)\n",
        "  best_log_res_model_dev_label=np.around(best_log_res_model.predict(dev_data))\n",
        "  performance['dev_accuracy']=best_log_res_model_dev_acc\n",
        "  performance['dev_f1score']=f1_score(dev_label, best_log_res_model_dev_label)\n",
        "  best_log_res_model_train_label=np.around(best_log_res_model.predict(train_data))\n",
        "  performance['train_accuracy']=accuracy_score(train_label, best_log_res_model_train_label)\n",
        "  performance['train_f1score']=f1_score(train_label,  best_log_res_model_train_label)\n",
        "      \n",
        "  return best_log_res_model,performance,best_log_res_model_hyperparam"
      ],
      "execution_count": 0,
      "outputs": []
    },
    {
      "cell_type": "markdown",
      "metadata": {
        "id": "3Cftq9PLt-W5",
        "colab_type": "text"
      },
      "source": [
        "Gradient Boosting (from scikit-learn) and Hyperparameter Tuning Using Grid Search; Model Selection Criterion: Accuracy on Development Set"
      ]
    },
    {
      "cell_type": "code",
      "metadata": {
        "id": "IlBcug14t9qi",
        "colab_type": "code",
        "colab": {}
      },
      "source": [
        "'''\n",
        "A custom grid search function for gradient boosting classifier from sklearn. GridSearch function from hypopt is used for grid search. \n",
        "'''\n",
        "def gradient_boosting_grid_search(train_data,train_label,dev_data,dev_label):\n",
        "  n_estimator_list=[100,500]\n",
        "  max_depth_list=[3,4,5,6,7,8]\n",
        "  performance=dict()\n",
        "\n",
        "  param_grid=dict(n_estimators=n_estimator_list,max_depth=max_depth_list)\n",
        "  grad_boost_model = GridSearch(model=GradientBoostingClassifier(), param_grid=param_grid)\n",
        "  grad_boost_model_param=grad_boost_model.fit(train_data,train_label,dev_data,dev_label,verbose=0)\n",
        "\n",
        "  grad_boost_model_train_label=grad_boost_model.predict(train_data)\n",
        "  performance['train_accuracy']=accuracy_score(train_label, grad_boost_model_train_label)\n",
        "  performance['train_f1score']=f1_score(train_label, grad_boost_model_train_label)\n",
        "\n",
        "  grad_boost_model_dev_label=grad_boost_model.predict(dev_data)\n",
        "  performance['dev_accuracy']=accuracy_score(dev_label, grad_boost_model_dev_label)\n",
        "  performance['dev_f1score']=f1_score(dev_label, grad_boost_model_dev_label)\n",
        "  return grad_boost_model,performance"
      ],
      "execution_count": 0,
      "outputs": []
    },
    {
      "cell_type": "markdown",
      "metadata": {
        "id": "qcBent412YMk",
        "colab_type": "text"
      },
      "source": [
        "Deep Neural Network (from Keras) and Hyperparameter Tuning Using Grid Search; Model Selection Criterion: Accuracy on Development Set"
      ]
    },
    {
      "cell_type": "code",
      "metadata": {
        "id": "ufHyLEhw2iiz",
        "colab_type": "code",
        "colab": {}
      },
      "source": [
        "'''\n",
        "A custom grid search function for deep neural network from tensorflow.keras.\n",
        "'''\n",
        "def dnn_grid_search(train_data,train_label,dev_data,dev_label):\n",
        "  #hyperparameters used in grid search\n",
        "  dropout_list=[0,0.25,0.5]\n",
        "  learning_r_list=[0.01,0.001,0.0001]\n",
        "  regularizer_list=[0.01,0.001,0.0001,0]\n",
        "\n",
        "  #parameters used in model training, not used in grid search\n",
        "  num_epochs = 500\n",
        "  batch_size=1000\n",
        "\n",
        "  performance=dict()\n",
        "  \n",
        "  best_dnn_dev_acc=0\n",
        "  for dropout_level in dropout_list:\n",
        "    for learning_r in learning_r_list:\n",
        "      for regularizer_level in regularizer_list:\n",
        "        dnn_model = tf.keras.models.Sequential([\n",
        "                                            tf.keras.layers.Dense(512, input_shape=[train_data.shape[1]],activation='relu',kernel_regularizer=regularizers.l2(regularizer_level)),\n",
        "                                            tf.keras.layers.Dropout(dropout_level),\n",
        "                                            tf.keras.layers.Dense(128,activation='relu',kernel_regularizer=regularizers.l2(regularizer_level)),\n",
        "                                            tf.keras.layers.Dropout(dropout_level),\n",
        "                                            tf.keras.layers.Dense(32,activation='relu',kernel_regularizer=regularizers.l2(regularizer_level)),\n",
        "                                            tf.keras.layers.Dropout(dropout_level),\n",
        "                                            tf.keras.layers.Dense(1, activation='sigmoid')])\n",
        "    \n",
        "        opt=optimizers.Adam(lr=learning_r, beta_1=0.9, beta_2=0.999, amsgrad=False)\n",
        "        dnn_model.compile(loss = 'binary_crossentropy', optimizer=opt, metrics=['accuracy'])\n",
        "        history = dnn_model.fit(train_data, train_label, epochs=num_epochs, batch_size=batch_size,validation_data=(dev_data, dev_label),verbose=0)\n",
        "        dnn_model_dev_label=np.around(dnn_model.predict(dev_data))\n",
        "        dnn_model_dev_acc=accuracy_score(dev_label, dnn_model_dev_label)\n",
        "        if dnn_model_dev_acc>best_dnn_dev_acc:\n",
        "          best_dnn_dev_acc=dnn_model_dev_acc\n",
        "          best_dnn_model = tf.keras.models.clone_model(dnn_model) \n",
        "          best_dnn_model.set_weights(dnn_model.get_weights())\n",
        "          best_dnn_model_hyperparam=dict(learning_rate=learning_r,dropout=dropout_level,regularization=regularizer_level)\n",
        "\n",
        "  dnn_model_train_label=np.around(best_dnn_model.predict(train_data))\n",
        "  performance['train_accuracy']=accuracy_score(train_label, dnn_model_train_label)\n",
        "  performance['train_f1score']=f1_score(train_label, dnn_model_train_label)\n",
        "\n",
        "  dnn_model_dev_label=np.around(best_dnn_model.predict(dev_data))\n",
        "  performance['dev_accuracy']=best_dnn_dev_acc\n",
        "  performance['dev_f1score']=f1_score(dev_label, dnn_model_dev_label)\n",
        "      \n",
        "  return best_dnn_model,performance,best_dnn_model_hyperparam"
      ],
      "execution_count": 0,
      "outputs": []
    },
    {
      "cell_type": "markdown",
      "metadata": {
        "id": "w8gIg8UkeLqz",
        "colab_type": "text"
      },
      "source": [
        "Training and Evaluation of 3 different models using the \"Brain Observatory 1.1\" Dataset. Evaluation with accuracy and f1 score.\n"
      ]
    },
    {
      "cell_type": "code",
      "metadata": {
        "id": "n7hYOo4JeY0S",
        "colab_type": "code",
        "colab": {
          "base_uri": "https://localhost:8080/",
          "height": 1000
        },
        "outputId": "442358ec-b9d2-4b84-ad75-c0245963be87"
      },
      "source": [
        "'''\n",
        "Training 3 models (Logistic Regression, Gradient Boosting, Deep Neural Network) with Brain Observatory 1.1 dataset\n",
        "After fitting, test performances (accuracy and f1 score) are calculated, and shown as tables.\n",
        "'''\n",
        "bo_log_res_model,bo_log_res_performance,bo_log_res_model_hyperparam=logistic_regression_grid_search(train_data_bo,train_label_bo,dev_data_bo,dev_label_bo)\n",
        "bo_log_res_model_test_label=np.around(bo_log_res_model.predict(test_data_bo))\n",
        "bo_log_res_performance['test_accuracy']=accuracy_score(test_label_bo, bo_log_res_model_test_label)\n",
        "bo_log_res_performance['test_f1score']=f1_score(test_label_bo, bo_log_res_model_test_label)\n",
        "\n",
        "bo_grad_boost_model,bo_grad_boost_performance=gradient_boosting_grid_search(train_data_bo,train_label_bo,dev_data_bo,dev_label_bo)\n",
        "bo_grad_boost_model_test_label=bo_grad_boost_model.predict(test_data_bo)\n",
        "bo_grad_boost_performance['test_accuracy']=accuracy_score(test_label_bo, bo_grad_boost_model_test_label)\n",
        "bo_grad_boost_performance['test_f1score']=f1_score(test_label_bo, bo_grad_boost_model_test_label)\n",
        "\n",
        "bo_dnn_model,bo_dnn_performance,bo_dnn_model_hyperparam=dnn_grid_search(train_data_bo,train_label_bo,dev_data_bo,dev_label_bo)\n",
        "bo_dnn_model_test_label=np.around(bo_dnn_model.predict(test_data_bo))\n",
        "bo_dnn_performance['test_accuracy']=accuracy_score(test_label_bo,bo_dnn_model_test_label)\n",
        "bo_dnn_performance['test_f1score']=f1_score(test_label_bo, bo_dnn_model_test_label)\n",
        "\n",
        "acc_column_labels_bo=['Accuracy for Brain Observatory 1.1','Training','Validation','Test']\n",
        "\n",
        "acc_values_bo=[['Logistic Regression','Gradient Boosting','Deep Neural Network'],\n",
        "          ['%.3f'%bo_log_res_performance['train_accuracy'],'%.3f'%bo_grad_boost_performance['train_accuracy'],'%.3f'%bo_dnn_performance['train_accuracy']],\n",
        "          ['%.3f'%bo_log_res_performance['dev_accuracy'],'%.3f'%bo_grad_boost_performance['dev_accuracy'],'%.3f'%bo_dnn_performance['dev_accuracy']],\n",
        "          ['%.3f'%bo_log_res_performance['test_accuracy'],'%.3f'%bo_grad_boost_performance['test_accuracy'],'%.3f'%bo_dnn_performance['test_accuracy']]]\n",
        "\n",
        "fig_acc_bo = go.Figure(data=[go.Table(header=dict(values=acc_column_labels_bo),\n",
        "                 cells=dict(values=acc_values_bo))\n",
        "                     ])\n",
        "fig_acc_bo.update_layout(autosize=False,width=1200,height=350)\n",
        "fig_acc_bo.show()\n",
        "\n",
        "\n",
        "f1_column_labels_bo=['F1 Score for Brain Observatory 1.1','Training','Validation','Test']\n",
        "\n",
        "f1_values_bo=[['Logistic Regression','Gradient Boosting','Deep Neural Network'],\n",
        "          ['%.3f'%bo_log_res_performance['train_f1score'],'%.3f'%bo_grad_boost_performance['train_f1score'],'%.3f'%bo_dnn_performance['train_f1score']],\n",
        "          ['%.3f'%bo_log_res_performance['dev_f1score'],'%.3f'%bo_grad_boost_performance['dev_f1score'],'%.3f'%bo_dnn_performance['dev_f1score']],\n",
        "          ['%.3f'%bo_log_res_performance['test_f1score'],'%.3f'%bo_grad_boost_performance['test_f1score'],'%.3f'%bo_dnn_performance['test_f1score']]]\n",
        "\n",
        "fig_f1_bo = go.Figure(data=[go.Table(header=dict(values=f1_column_labels_bo),\n",
        "                 cells=dict(values=f1_values_bo))\n",
        "                     ])\n",
        "fig_f1_bo.update_layout(autosize=False,width=1200,height=350)\n",
        "fig_f1_bo.show()"
      ],
      "execution_count": 14,
      "outputs": [
        {
          "output_type": "stream",
          "text": [
            "/usr/local/lib/python3.6/dist-packages/statsmodels/base/l1_solvers_common.py:73: ConvergenceWarning:\n",
            "\n",
            "QC check did not pass for 56 out of 56 parameters\n",
            "Try increasing solver accuracy or number of iterations, decreasing alpha, or switch solvers\n",
            "\n",
            "/usr/local/lib/python3.6/dist-packages/statsmodels/base/l1_solvers_common.py:146: ConvergenceWarning:\n",
            "\n",
            "Could not trim params automatically due to failed QC check. Trimming using trim_mode == 'size' will still work.\n",
            "\n",
            "/usr/local/lib/python3.6/dist-packages/statsmodels/base/l1_solvers_common.py:73: ConvergenceWarning:\n",
            "\n",
            "QC check did not pass for 56 out of 56 parameters\n",
            "Try increasing solver accuracy or number of iterations, decreasing alpha, or switch solvers\n",
            "\n",
            "/usr/local/lib/python3.6/dist-packages/statsmodels/base/l1_solvers_common.py:146: ConvergenceWarning:\n",
            "\n",
            "Could not trim params automatically due to failed QC check. Trimming using trim_mode == 'size' will still work.\n",
            "\n",
            "/usr/local/lib/python3.6/dist-packages/statsmodels/base/l1_solvers_common.py:73: ConvergenceWarning:\n",
            "\n",
            "QC check did not pass for 55 out of 56 parameters\n",
            "Try increasing solver accuracy or number of iterations, decreasing alpha, or switch solvers\n",
            "\n",
            "/usr/local/lib/python3.6/dist-packages/statsmodels/base/l1_solvers_common.py:146: ConvergenceWarning:\n",
            "\n",
            "Could not trim params automatically due to failed QC check. Trimming using trim_mode == 'size' will still work.\n",
            "\n",
            "/usr/local/lib/python3.6/dist-packages/statsmodels/base/l1_solvers_common.py:73: ConvergenceWarning:\n",
            "\n",
            "QC check did not pass for 21 out of 56 parameters\n",
            "Try increasing solver accuracy or number of iterations, decreasing alpha, or switch solvers\n",
            "\n",
            "/usr/local/lib/python3.6/dist-packages/statsmodels/base/l1_solvers_common.py:146: ConvergenceWarning:\n",
            "\n",
            "Could not trim params automatically due to failed QC check. Trimming using trim_mode == 'size' will still work.\n",
            "\n",
            "/usr/local/lib/python3.6/dist-packages/statsmodels/base/l1_solvers_common.py:73: ConvergenceWarning:\n",
            "\n",
            "QC check did not pass for 7 out of 56 parameters\n",
            "Try increasing solver accuracy or number of iterations, decreasing alpha, or switch solvers\n",
            "\n",
            "/usr/local/lib/python3.6/dist-packages/statsmodels/base/l1_solvers_common.py:146: ConvergenceWarning:\n",
            "\n",
            "Could not trim params automatically due to failed QC check. Trimming using trim_mode == 'size' will still work.\n",
            "\n",
            "/usr/local/lib/python3.6/dist-packages/statsmodels/base/l1_solvers_common.py:73: ConvergenceWarning:\n",
            "\n",
            "QC check did not pass for 56 out of 56 parameters\n",
            "Try increasing solver accuracy or number of iterations, decreasing alpha, or switch solvers\n",
            "\n",
            "/usr/local/lib/python3.6/dist-packages/statsmodels/base/l1_solvers_common.py:146: ConvergenceWarning:\n",
            "\n",
            "Could not trim params automatically due to failed QC check. Trimming using trim_mode == 'size' will still work.\n",
            "\n",
            "/usr/local/lib/python3.6/dist-packages/statsmodels/base/l1_solvers_common.py:73: ConvergenceWarning:\n",
            "\n",
            "QC check did not pass for 55 out of 56 parameters\n",
            "Try increasing solver accuracy or number of iterations, decreasing alpha, or switch solvers\n",
            "\n",
            "/usr/local/lib/python3.6/dist-packages/statsmodels/base/l1_solvers_common.py:146: ConvergenceWarning:\n",
            "\n",
            "Could not trim params automatically due to failed QC check. Trimming using trim_mode == 'size' will still work.\n",
            "\n",
            "100%|██████████| 12/12 [22:13<00:00, 111.25s/it]\n",
            "WARNING:tensorflow:From /usr/local/lib/python3.6/dist-packages/tensorflow_core/python/ops/resource_variable_ops.py:1630: calling BaseResourceVariable.__init__ (from tensorflow.python.ops.resource_variable_ops) with constraint is deprecated and will be removed in a future version.\n",
            "Instructions for updating:\n",
            "If using Keras pass *_constraint arguments to layers.\n",
            "WARNING:tensorflow:From /usr/local/lib/python3.6/dist-packages/tensorflow_core/python/ops/nn_impl.py:183: where (from tensorflow.python.ops.array_ops) is deprecated and will be removed in a future version.\n",
            "Instructions for updating:\n",
            "Use tf.where in 2.0, which has the same broadcast rule as np.where\n",
            "WARNING:tensorflow:From /usr/local/lib/python3.6/dist-packages/tensorflow_core/python/ops/init_ops.py:97: calling GlorotUniform.__init__ (from tensorflow.python.ops.init_ops) with dtype is deprecated and will be removed in a future version.\n",
            "Instructions for updating:\n",
            "Call initializer instance with the dtype argument instead of passing it to the constructor\n",
            "WARNING:tensorflow:From /usr/local/lib/python3.6/dist-packages/tensorflow_core/python/ops/init_ops.py:97: calling Zeros.__init__ (from tensorflow.python.ops.init_ops) with dtype is deprecated and will be removed in a future version.\n",
            "Instructions for updating:\n",
            "Call initializer instance with the dtype argument instead of passing it to the constructor\n"
          ],
          "name": "stderr"
        },
        {
          "output_type": "display_data",
          "data": {
            "text/html": [
              "<html>\n",
              "<head><meta charset=\"utf-8\" /></head>\n",
              "<body>\n",
              "    <div>\n",
              "            <script src=\"https://cdnjs.cloudflare.com/ajax/libs/mathjax/2.7.5/MathJax.js?config=TeX-AMS-MML_SVG\"></script><script type=\"text/javascript\">if (window.MathJax) {MathJax.Hub.Config({SVG: {font: \"STIX-Web\"}});}</script>\n",
              "                <script type=\"text/javascript\">window.PlotlyConfig = {MathJaxConfig: 'local'};</script>\n",
              "        <script src=\"https://cdn.plot.ly/plotly-latest.min.js\"></script>    \n",
              "            <div id=\"88dffa7c-16b3-4231-8f8b-07b3ba61a089\" class=\"plotly-graph-div\" style=\"height:350px; width:1200px;\"></div>\n",
              "            <script type=\"text/javascript\">\n",
              "                \n",
              "                    window.PLOTLYENV=window.PLOTLYENV || {};\n",
              "                    \n",
              "                if (document.getElementById(\"88dffa7c-16b3-4231-8f8b-07b3ba61a089\")) {\n",
              "                    Plotly.newPlot(\n",
              "                        '88dffa7c-16b3-4231-8f8b-07b3ba61a089',\n",
              "                        [{\"cells\": {\"values\": [[\"Logistic Regression\", \"Gradient Boosting\", \"Deep Neural Network\"], [\"0.866\", \"1.000\", \"0.943\"], [\"0.873\", \"0.940\", \"0.918\"], [\"0.857\", \"0.940\", \"0.911\"]]}, \"header\": {\"values\": [\"Accuracy for Brain Observatory 1.1\", \"Training\", \"Validation\", \"Test\"]}, \"type\": \"table\"}],\n",
              "                        {\"autosize\": false, \"height\": 350, \"template\": {\"data\": {\"bar\": [{\"error_x\": {\"color\": \"#2a3f5f\"}, \"error_y\": {\"color\": \"#2a3f5f\"}, \"marker\": {\"line\": {\"color\": \"#E5ECF6\", \"width\": 0.5}}, \"type\": \"bar\"}], \"barpolar\": [{\"marker\": {\"line\": {\"color\": \"#E5ECF6\", \"width\": 0.5}}, \"type\": \"barpolar\"}], \"carpet\": [{\"aaxis\": {\"endlinecolor\": \"#2a3f5f\", \"gridcolor\": \"white\", \"linecolor\": \"white\", \"minorgridcolor\": \"white\", \"startlinecolor\": \"#2a3f5f\"}, \"baxis\": {\"endlinecolor\": \"#2a3f5f\", \"gridcolor\": \"white\", \"linecolor\": \"white\", \"minorgridcolor\": \"white\", \"startlinecolor\": \"#2a3f5f\"}, \"type\": \"carpet\"}], \"choropleth\": [{\"colorbar\": {\"outlinewidth\": 0, \"ticks\": \"\"}, \"type\": \"choropleth\"}], \"contour\": [{\"colorbar\": {\"outlinewidth\": 0, \"ticks\": \"\"}, \"colorscale\": [[0.0, \"#0d0887\"], [0.1111111111111111, \"#46039f\"], [0.2222222222222222, \"#7201a8\"], [0.3333333333333333, \"#9c179e\"], [0.4444444444444444, \"#bd3786\"], [0.5555555555555556, \"#d8576b\"], [0.6666666666666666, \"#ed7953\"], [0.7777777777777778, \"#fb9f3a\"], [0.8888888888888888, \"#fdca26\"], [1.0, \"#f0f921\"]], \"type\": \"contour\"}], \"contourcarpet\": [{\"colorbar\": {\"outlinewidth\": 0, \"ticks\": \"\"}, \"type\": \"contourcarpet\"}], \"heatmap\": [{\"colorbar\": {\"outlinewidth\": 0, \"ticks\": \"\"}, \"colorscale\": [[0.0, \"#0d0887\"], [0.1111111111111111, \"#46039f\"], [0.2222222222222222, \"#7201a8\"], [0.3333333333333333, \"#9c179e\"], [0.4444444444444444, \"#bd3786\"], [0.5555555555555556, \"#d8576b\"], [0.6666666666666666, \"#ed7953\"], [0.7777777777777778, \"#fb9f3a\"], [0.8888888888888888, \"#fdca26\"], [1.0, \"#f0f921\"]], \"type\": \"heatmap\"}], \"heatmapgl\": [{\"colorbar\": {\"outlinewidth\": 0, \"ticks\": \"\"}, \"colorscale\": [[0.0, \"#0d0887\"], [0.1111111111111111, \"#46039f\"], [0.2222222222222222, \"#7201a8\"], [0.3333333333333333, \"#9c179e\"], [0.4444444444444444, \"#bd3786\"], [0.5555555555555556, \"#d8576b\"], [0.6666666666666666, \"#ed7953\"], [0.7777777777777778, \"#fb9f3a\"], [0.8888888888888888, \"#fdca26\"], [1.0, \"#f0f921\"]], \"type\": \"heatmapgl\"}], \"histogram\": [{\"marker\": {\"colorbar\": {\"outlinewidth\": 0, \"ticks\": \"\"}}, \"type\": \"histogram\"}], \"histogram2d\": [{\"colorbar\": {\"outlinewidth\": 0, \"ticks\": \"\"}, \"colorscale\": [[0.0, \"#0d0887\"], [0.1111111111111111, \"#46039f\"], [0.2222222222222222, \"#7201a8\"], [0.3333333333333333, \"#9c179e\"], [0.4444444444444444, \"#bd3786\"], [0.5555555555555556, \"#d8576b\"], [0.6666666666666666, \"#ed7953\"], [0.7777777777777778, \"#fb9f3a\"], [0.8888888888888888, \"#fdca26\"], [1.0, \"#f0f921\"]], \"type\": \"histogram2d\"}], \"histogram2dcontour\": [{\"colorbar\": {\"outlinewidth\": 0, \"ticks\": \"\"}, \"colorscale\": [[0.0, \"#0d0887\"], [0.1111111111111111, \"#46039f\"], [0.2222222222222222, \"#7201a8\"], [0.3333333333333333, \"#9c179e\"], [0.4444444444444444, \"#bd3786\"], [0.5555555555555556, \"#d8576b\"], [0.6666666666666666, \"#ed7953\"], [0.7777777777777778, \"#fb9f3a\"], [0.8888888888888888, \"#fdca26\"], [1.0, \"#f0f921\"]], \"type\": \"histogram2dcontour\"}], \"mesh3d\": [{\"colorbar\": {\"outlinewidth\": 0, \"ticks\": \"\"}, \"type\": \"mesh3d\"}], \"parcoords\": [{\"line\": {\"colorbar\": {\"outlinewidth\": 0, \"ticks\": \"\"}}, \"type\": \"parcoords\"}], \"pie\": [{\"automargin\": true, \"type\": \"pie\"}], \"scatter\": [{\"marker\": {\"colorbar\": {\"outlinewidth\": 0, \"ticks\": \"\"}}, \"type\": \"scatter\"}], \"scatter3d\": [{\"line\": {\"colorbar\": {\"outlinewidth\": 0, \"ticks\": \"\"}}, \"marker\": {\"colorbar\": {\"outlinewidth\": 0, \"ticks\": \"\"}}, \"type\": \"scatter3d\"}], \"scattercarpet\": [{\"marker\": {\"colorbar\": {\"outlinewidth\": 0, \"ticks\": \"\"}}, \"type\": \"scattercarpet\"}], \"scattergeo\": [{\"marker\": {\"colorbar\": {\"outlinewidth\": 0, \"ticks\": \"\"}}, \"type\": \"scattergeo\"}], \"scattergl\": [{\"marker\": {\"colorbar\": {\"outlinewidth\": 0, \"ticks\": \"\"}}, \"type\": \"scattergl\"}], \"scattermapbox\": [{\"marker\": {\"colorbar\": {\"outlinewidth\": 0, \"ticks\": \"\"}}, \"type\": \"scattermapbox\"}], \"scatterpolar\": [{\"marker\": {\"colorbar\": {\"outlinewidth\": 0, \"ticks\": \"\"}}, \"type\": \"scatterpolar\"}], \"scatterpolargl\": [{\"marker\": {\"colorbar\": {\"outlinewidth\": 0, \"ticks\": \"\"}}, \"type\": \"scatterpolargl\"}], \"scatterternary\": [{\"marker\": {\"colorbar\": {\"outlinewidth\": 0, \"ticks\": \"\"}}, \"type\": \"scatterternary\"}], \"surface\": [{\"colorbar\": {\"outlinewidth\": 0, \"ticks\": \"\"}, \"colorscale\": [[0.0, \"#0d0887\"], [0.1111111111111111, \"#46039f\"], [0.2222222222222222, \"#7201a8\"], [0.3333333333333333, \"#9c179e\"], [0.4444444444444444, \"#bd3786\"], [0.5555555555555556, \"#d8576b\"], [0.6666666666666666, \"#ed7953\"], [0.7777777777777778, \"#fb9f3a\"], [0.8888888888888888, \"#fdca26\"], [1.0, \"#f0f921\"]], \"type\": \"surface\"}], \"table\": [{\"cells\": {\"fill\": {\"color\": \"#EBF0F8\"}, \"line\": {\"color\": \"white\"}}, \"header\": {\"fill\": {\"color\": \"#C8D4E3\"}, \"line\": {\"color\": \"white\"}}, \"type\": \"table\"}]}, \"layout\": {\"annotationdefaults\": {\"arrowcolor\": \"#2a3f5f\", \"arrowhead\": 0, \"arrowwidth\": 1}, \"coloraxis\": {\"colorbar\": {\"outlinewidth\": 0, \"ticks\": \"\"}}, \"colorscale\": {\"diverging\": [[0, \"#8e0152\"], [0.1, \"#c51b7d\"], [0.2, \"#de77ae\"], [0.3, \"#f1b6da\"], [0.4, \"#fde0ef\"], [0.5, \"#f7f7f7\"], [0.6, \"#e6f5d0\"], [0.7, \"#b8e186\"], [0.8, \"#7fbc41\"], [0.9, \"#4d9221\"], [1, \"#276419\"]], \"sequential\": [[0.0, \"#0d0887\"], [0.1111111111111111, \"#46039f\"], [0.2222222222222222, \"#7201a8\"], [0.3333333333333333, \"#9c179e\"], [0.4444444444444444, \"#bd3786\"], [0.5555555555555556, \"#d8576b\"], [0.6666666666666666, \"#ed7953\"], [0.7777777777777778, \"#fb9f3a\"], [0.8888888888888888, \"#fdca26\"], [1.0, \"#f0f921\"]], \"sequentialminus\": [[0.0, \"#0d0887\"], [0.1111111111111111, \"#46039f\"], [0.2222222222222222, \"#7201a8\"], [0.3333333333333333, \"#9c179e\"], [0.4444444444444444, \"#bd3786\"], [0.5555555555555556, \"#d8576b\"], [0.6666666666666666, \"#ed7953\"], [0.7777777777777778, \"#fb9f3a\"], [0.8888888888888888, \"#fdca26\"], [1.0, \"#f0f921\"]]}, \"colorway\": [\"#636efa\", \"#EF553B\", \"#00cc96\", \"#ab63fa\", \"#FFA15A\", \"#19d3f3\", \"#FF6692\", \"#B6E880\", \"#FF97FF\", \"#FECB52\"], \"font\": {\"color\": \"#2a3f5f\"}, \"geo\": {\"bgcolor\": \"white\", \"lakecolor\": \"white\", \"landcolor\": \"#E5ECF6\", \"showlakes\": true, \"showland\": true, \"subunitcolor\": \"white\"}, \"hoverlabel\": {\"align\": \"left\"}, \"hovermode\": \"closest\", \"mapbox\": {\"style\": \"light\"}, \"paper_bgcolor\": \"white\", \"plot_bgcolor\": \"#E5ECF6\", \"polar\": {\"angularaxis\": {\"gridcolor\": \"white\", \"linecolor\": \"white\", \"ticks\": \"\"}, \"bgcolor\": \"#E5ECF6\", \"radialaxis\": {\"gridcolor\": \"white\", \"linecolor\": \"white\", \"ticks\": \"\"}}, \"scene\": {\"xaxis\": {\"backgroundcolor\": \"#E5ECF6\", \"gridcolor\": \"white\", \"gridwidth\": 2, \"linecolor\": \"white\", \"showbackground\": true, \"ticks\": \"\", \"zerolinecolor\": \"white\"}, \"yaxis\": {\"backgroundcolor\": \"#E5ECF6\", \"gridcolor\": \"white\", \"gridwidth\": 2, \"linecolor\": \"white\", \"showbackground\": true, \"ticks\": \"\", \"zerolinecolor\": \"white\"}, \"zaxis\": {\"backgroundcolor\": \"#E5ECF6\", \"gridcolor\": \"white\", \"gridwidth\": 2, \"linecolor\": \"white\", \"showbackground\": true, \"ticks\": \"\", \"zerolinecolor\": \"white\"}}, \"shapedefaults\": {\"line\": {\"color\": \"#2a3f5f\"}}, \"ternary\": {\"aaxis\": {\"gridcolor\": \"white\", \"linecolor\": \"white\", \"ticks\": \"\"}, \"baxis\": {\"gridcolor\": \"white\", \"linecolor\": \"white\", \"ticks\": \"\"}, \"bgcolor\": \"#E5ECF6\", \"caxis\": {\"gridcolor\": \"white\", \"linecolor\": \"white\", \"ticks\": \"\"}}, \"title\": {\"x\": 0.05}, \"xaxis\": {\"automargin\": true, \"gridcolor\": \"white\", \"linecolor\": \"white\", \"ticks\": \"\", \"title\": {\"standoff\": 15}, \"zerolinecolor\": \"white\", \"zerolinewidth\": 2}, \"yaxis\": {\"automargin\": true, \"gridcolor\": \"white\", \"linecolor\": \"white\", \"ticks\": \"\", \"title\": {\"standoff\": 15}, \"zerolinecolor\": \"white\", \"zerolinewidth\": 2}}}, \"width\": 1200},\n",
              "                        {\"responsive\": true}\n",
              "                    ).then(function(){\n",
              "                            \n",
              "var gd = document.getElementById('88dffa7c-16b3-4231-8f8b-07b3ba61a089');\n",
              "var x = new MutationObserver(function (mutations, observer) {{\n",
              "        var display = window.getComputedStyle(gd).display;\n",
              "        if (!display || display === 'none') {{\n",
              "            console.log([gd, 'removed!']);\n",
              "            Plotly.purge(gd);\n",
              "            observer.disconnect();\n",
              "        }}\n",
              "}});\n",
              "\n",
              "// Listen for the removal of the full notebook cells\n",
              "var notebookContainer = gd.closest('#notebook-container');\n",
              "if (notebookContainer) {{\n",
              "    x.observe(notebookContainer, {childList: true});\n",
              "}}\n",
              "\n",
              "// Listen for the clearing of the current output cell\n",
              "var outputEl = gd.closest('.output');\n",
              "if (outputEl) {{\n",
              "    x.observe(outputEl, {childList: true});\n",
              "}}\n",
              "\n",
              "                        })\n",
              "                };\n",
              "                \n",
              "            </script>\n",
              "        </div>\n",
              "</body>\n",
              "</html>"
            ]
          },
          "metadata": {
            "tags": []
          }
        },
        {
          "output_type": "display_data",
          "data": {
            "text/html": [
              "<html>\n",
              "<head><meta charset=\"utf-8\" /></head>\n",
              "<body>\n",
              "    <div>\n",
              "            <script src=\"https://cdnjs.cloudflare.com/ajax/libs/mathjax/2.7.5/MathJax.js?config=TeX-AMS-MML_SVG\"></script><script type=\"text/javascript\">if (window.MathJax) {MathJax.Hub.Config({SVG: {font: \"STIX-Web\"}});}</script>\n",
              "                <script type=\"text/javascript\">window.PlotlyConfig = {MathJaxConfig: 'local'};</script>\n",
              "        <script src=\"https://cdn.plot.ly/plotly-latest.min.js\"></script>    \n",
              "            <div id=\"40a63b45-6c06-4738-b22d-841b043a7b42\" class=\"plotly-graph-div\" style=\"height:350px; width:1200px;\"></div>\n",
              "            <script type=\"text/javascript\">\n",
              "                \n",
              "                    window.PLOTLYENV=window.PLOTLYENV || {};\n",
              "                    \n",
              "                if (document.getElementById(\"40a63b45-6c06-4738-b22d-841b043a7b42\")) {\n",
              "                    Plotly.newPlot(\n",
              "                        '40a63b45-6c06-4738-b22d-841b043a7b42',\n",
              "                        [{\"cells\": {\"values\": [[\"Logistic Regression\", \"Gradient Boosting\", \"Deep Neural Network\"], [\"0.847\", \"1.000\", \"0.932\"], [\"0.856\", \"0.930\", \"0.904\"], [\"0.838\", \"0.930\", \"0.895\"]]}, \"header\": {\"values\": [\"F1 Score for Brain Observatory 1.1\", \"Training\", \"Validation\", \"Test\"]}, \"type\": \"table\"}],\n",
              "                        {\"autosize\": false, \"height\": 350, \"template\": {\"data\": {\"bar\": [{\"error_x\": {\"color\": \"#2a3f5f\"}, \"error_y\": {\"color\": \"#2a3f5f\"}, \"marker\": {\"line\": {\"color\": \"#E5ECF6\", \"width\": 0.5}}, \"type\": \"bar\"}], \"barpolar\": [{\"marker\": {\"line\": {\"color\": \"#E5ECF6\", \"width\": 0.5}}, \"type\": \"barpolar\"}], \"carpet\": [{\"aaxis\": {\"endlinecolor\": \"#2a3f5f\", \"gridcolor\": \"white\", \"linecolor\": \"white\", \"minorgridcolor\": \"white\", \"startlinecolor\": \"#2a3f5f\"}, \"baxis\": {\"endlinecolor\": \"#2a3f5f\", \"gridcolor\": \"white\", \"linecolor\": \"white\", \"minorgridcolor\": \"white\", \"startlinecolor\": \"#2a3f5f\"}, \"type\": \"carpet\"}], \"choropleth\": [{\"colorbar\": {\"outlinewidth\": 0, \"ticks\": \"\"}, \"type\": \"choropleth\"}], \"contour\": [{\"colorbar\": {\"outlinewidth\": 0, \"ticks\": \"\"}, \"colorscale\": [[0.0, \"#0d0887\"], [0.1111111111111111, \"#46039f\"], [0.2222222222222222, \"#7201a8\"], [0.3333333333333333, \"#9c179e\"], [0.4444444444444444, \"#bd3786\"], [0.5555555555555556, \"#d8576b\"], [0.6666666666666666, \"#ed7953\"], [0.7777777777777778, \"#fb9f3a\"], [0.8888888888888888, \"#fdca26\"], [1.0, \"#f0f921\"]], \"type\": \"contour\"}], \"contourcarpet\": [{\"colorbar\": {\"outlinewidth\": 0, \"ticks\": \"\"}, \"type\": \"contourcarpet\"}], \"heatmap\": [{\"colorbar\": {\"outlinewidth\": 0, \"ticks\": \"\"}, \"colorscale\": [[0.0, \"#0d0887\"], [0.1111111111111111, \"#46039f\"], [0.2222222222222222, \"#7201a8\"], [0.3333333333333333, \"#9c179e\"], [0.4444444444444444, \"#bd3786\"], [0.5555555555555556, \"#d8576b\"], [0.6666666666666666, \"#ed7953\"], [0.7777777777777778, \"#fb9f3a\"], [0.8888888888888888, \"#fdca26\"], [1.0, \"#f0f921\"]], \"type\": \"heatmap\"}], \"heatmapgl\": [{\"colorbar\": {\"outlinewidth\": 0, \"ticks\": \"\"}, \"colorscale\": [[0.0, \"#0d0887\"], [0.1111111111111111, \"#46039f\"], [0.2222222222222222, \"#7201a8\"], [0.3333333333333333, \"#9c179e\"], [0.4444444444444444, \"#bd3786\"], [0.5555555555555556, \"#d8576b\"], [0.6666666666666666, \"#ed7953\"], [0.7777777777777778, \"#fb9f3a\"], [0.8888888888888888, \"#fdca26\"], [1.0, \"#f0f921\"]], \"type\": \"heatmapgl\"}], \"histogram\": [{\"marker\": {\"colorbar\": {\"outlinewidth\": 0, \"ticks\": \"\"}}, \"type\": \"histogram\"}], \"histogram2d\": [{\"colorbar\": {\"outlinewidth\": 0, \"ticks\": \"\"}, \"colorscale\": [[0.0, \"#0d0887\"], [0.1111111111111111, \"#46039f\"], [0.2222222222222222, \"#7201a8\"], [0.3333333333333333, \"#9c179e\"], [0.4444444444444444, \"#bd3786\"], [0.5555555555555556, \"#d8576b\"], [0.6666666666666666, \"#ed7953\"], [0.7777777777777778, \"#fb9f3a\"], [0.8888888888888888, \"#fdca26\"], [1.0, \"#f0f921\"]], \"type\": \"histogram2d\"}], \"histogram2dcontour\": [{\"colorbar\": {\"outlinewidth\": 0, \"ticks\": \"\"}, \"colorscale\": [[0.0, \"#0d0887\"], [0.1111111111111111, \"#46039f\"], [0.2222222222222222, \"#7201a8\"], [0.3333333333333333, \"#9c179e\"], [0.4444444444444444, \"#bd3786\"], [0.5555555555555556, \"#d8576b\"], [0.6666666666666666, \"#ed7953\"], [0.7777777777777778, \"#fb9f3a\"], [0.8888888888888888, \"#fdca26\"], [1.0, \"#f0f921\"]], \"type\": \"histogram2dcontour\"}], \"mesh3d\": [{\"colorbar\": {\"outlinewidth\": 0, \"ticks\": \"\"}, \"type\": \"mesh3d\"}], \"parcoords\": [{\"line\": {\"colorbar\": {\"outlinewidth\": 0, \"ticks\": \"\"}}, \"type\": \"parcoords\"}], \"pie\": [{\"automargin\": true, \"type\": \"pie\"}], \"scatter\": [{\"marker\": {\"colorbar\": {\"outlinewidth\": 0, \"ticks\": \"\"}}, \"type\": \"scatter\"}], \"scatter3d\": [{\"line\": {\"colorbar\": {\"outlinewidth\": 0, \"ticks\": \"\"}}, \"marker\": {\"colorbar\": {\"outlinewidth\": 0, \"ticks\": \"\"}}, \"type\": \"scatter3d\"}], \"scattercarpet\": [{\"marker\": {\"colorbar\": {\"outlinewidth\": 0, \"ticks\": \"\"}}, \"type\": \"scattercarpet\"}], \"scattergeo\": [{\"marker\": {\"colorbar\": {\"outlinewidth\": 0, \"ticks\": \"\"}}, \"type\": \"scattergeo\"}], \"scattergl\": [{\"marker\": {\"colorbar\": {\"outlinewidth\": 0, \"ticks\": \"\"}}, \"type\": \"scattergl\"}], \"scattermapbox\": [{\"marker\": {\"colorbar\": {\"outlinewidth\": 0, \"ticks\": \"\"}}, \"type\": \"scattermapbox\"}], \"scatterpolar\": [{\"marker\": {\"colorbar\": {\"outlinewidth\": 0, \"ticks\": \"\"}}, \"type\": \"scatterpolar\"}], \"scatterpolargl\": [{\"marker\": {\"colorbar\": {\"outlinewidth\": 0, \"ticks\": \"\"}}, \"type\": \"scatterpolargl\"}], \"scatterternary\": [{\"marker\": {\"colorbar\": {\"outlinewidth\": 0, \"ticks\": \"\"}}, \"type\": \"scatterternary\"}], \"surface\": [{\"colorbar\": {\"outlinewidth\": 0, \"ticks\": \"\"}, \"colorscale\": [[0.0, \"#0d0887\"], [0.1111111111111111, \"#46039f\"], [0.2222222222222222, \"#7201a8\"], [0.3333333333333333, \"#9c179e\"], [0.4444444444444444, \"#bd3786\"], [0.5555555555555556, \"#d8576b\"], [0.6666666666666666, \"#ed7953\"], [0.7777777777777778, \"#fb9f3a\"], [0.8888888888888888, \"#fdca26\"], [1.0, \"#f0f921\"]], \"type\": \"surface\"}], \"table\": [{\"cells\": {\"fill\": {\"color\": \"#EBF0F8\"}, \"line\": {\"color\": \"white\"}}, \"header\": {\"fill\": {\"color\": \"#C8D4E3\"}, \"line\": {\"color\": \"white\"}}, \"type\": \"table\"}]}, \"layout\": {\"annotationdefaults\": {\"arrowcolor\": \"#2a3f5f\", \"arrowhead\": 0, \"arrowwidth\": 1}, \"coloraxis\": {\"colorbar\": {\"outlinewidth\": 0, \"ticks\": \"\"}}, \"colorscale\": {\"diverging\": [[0, \"#8e0152\"], [0.1, \"#c51b7d\"], [0.2, \"#de77ae\"], [0.3, \"#f1b6da\"], [0.4, \"#fde0ef\"], [0.5, \"#f7f7f7\"], [0.6, \"#e6f5d0\"], [0.7, \"#b8e186\"], [0.8, \"#7fbc41\"], [0.9, \"#4d9221\"], [1, \"#276419\"]], \"sequential\": [[0.0, \"#0d0887\"], [0.1111111111111111, \"#46039f\"], [0.2222222222222222, \"#7201a8\"], [0.3333333333333333, \"#9c179e\"], [0.4444444444444444, \"#bd3786\"], [0.5555555555555556, \"#d8576b\"], [0.6666666666666666, \"#ed7953\"], [0.7777777777777778, \"#fb9f3a\"], [0.8888888888888888, \"#fdca26\"], [1.0, \"#f0f921\"]], \"sequentialminus\": [[0.0, \"#0d0887\"], [0.1111111111111111, \"#46039f\"], [0.2222222222222222, \"#7201a8\"], [0.3333333333333333, \"#9c179e\"], [0.4444444444444444, \"#bd3786\"], [0.5555555555555556, \"#d8576b\"], [0.6666666666666666, \"#ed7953\"], [0.7777777777777778, \"#fb9f3a\"], [0.8888888888888888, \"#fdca26\"], [1.0, \"#f0f921\"]]}, \"colorway\": [\"#636efa\", \"#EF553B\", \"#00cc96\", \"#ab63fa\", \"#FFA15A\", \"#19d3f3\", \"#FF6692\", \"#B6E880\", \"#FF97FF\", \"#FECB52\"], \"font\": {\"color\": \"#2a3f5f\"}, \"geo\": {\"bgcolor\": \"white\", \"lakecolor\": \"white\", \"landcolor\": \"#E5ECF6\", \"showlakes\": true, \"showland\": true, \"subunitcolor\": \"white\"}, \"hoverlabel\": {\"align\": \"left\"}, \"hovermode\": \"closest\", \"mapbox\": {\"style\": \"light\"}, \"paper_bgcolor\": \"white\", \"plot_bgcolor\": \"#E5ECF6\", \"polar\": {\"angularaxis\": {\"gridcolor\": \"white\", \"linecolor\": \"white\", \"ticks\": \"\"}, \"bgcolor\": \"#E5ECF6\", \"radialaxis\": {\"gridcolor\": \"white\", \"linecolor\": \"white\", \"ticks\": \"\"}}, \"scene\": {\"xaxis\": {\"backgroundcolor\": \"#E5ECF6\", \"gridcolor\": \"white\", \"gridwidth\": 2, \"linecolor\": \"white\", \"showbackground\": true, \"ticks\": \"\", \"zerolinecolor\": \"white\"}, \"yaxis\": {\"backgroundcolor\": \"#E5ECF6\", \"gridcolor\": \"white\", \"gridwidth\": 2, \"linecolor\": \"white\", \"showbackground\": true, \"ticks\": \"\", \"zerolinecolor\": \"white\"}, \"zaxis\": {\"backgroundcolor\": \"#E5ECF6\", \"gridcolor\": \"white\", \"gridwidth\": 2, \"linecolor\": \"white\", \"showbackground\": true, \"ticks\": \"\", \"zerolinecolor\": \"white\"}}, \"shapedefaults\": {\"line\": {\"color\": \"#2a3f5f\"}}, \"ternary\": {\"aaxis\": {\"gridcolor\": \"white\", \"linecolor\": \"white\", \"ticks\": \"\"}, \"baxis\": {\"gridcolor\": \"white\", \"linecolor\": \"white\", \"ticks\": \"\"}, \"bgcolor\": \"#E5ECF6\", \"caxis\": {\"gridcolor\": \"white\", \"linecolor\": \"white\", \"ticks\": \"\"}}, \"title\": {\"x\": 0.05}, \"xaxis\": {\"automargin\": true, \"gridcolor\": \"white\", \"linecolor\": \"white\", \"ticks\": \"\", \"title\": {\"standoff\": 15}, \"zerolinecolor\": \"white\", \"zerolinewidth\": 2}, \"yaxis\": {\"automargin\": true, \"gridcolor\": \"white\", \"linecolor\": \"white\", \"ticks\": \"\", \"title\": {\"standoff\": 15}, \"zerolinecolor\": \"white\", \"zerolinewidth\": 2}}}, \"width\": 1200},\n",
              "                        {\"responsive\": true}\n",
              "                    ).then(function(){\n",
              "                            \n",
              "var gd = document.getElementById('40a63b45-6c06-4738-b22d-841b043a7b42');\n",
              "var x = new MutationObserver(function (mutations, observer) {{\n",
              "        var display = window.getComputedStyle(gd).display;\n",
              "        if (!display || display === 'none') {{\n",
              "            console.log([gd, 'removed!']);\n",
              "            Plotly.purge(gd);\n",
              "            observer.disconnect();\n",
              "        }}\n",
              "}});\n",
              "\n",
              "// Listen for the removal of the full notebook cells\n",
              "var notebookContainer = gd.closest('#notebook-container');\n",
              "if (notebookContainer) {{\n",
              "    x.observe(notebookContainer, {childList: true});\n",
              "}}\n",
              "\n",
              "// Listen for the clearing of the current output cell\n",
              "var outputEl = gd.closest('.output');\n",
              "if (outputEl) {{\n",
              "    x.observe(outputEl, {childList: true});\n",
              "}}\n",
              "\n",
              "                        })\n",
              "                };\n",
              "                \n",
              "            </script>\n",
              "        </div>\n",
              "</body>\n",
              "</html>"
            ]
          },
          "metadata": {
            "tags": []
          }
        }
      ]
    },
    {
      "cell_type": "markdown",
      "metadata": {
        "id": "rLQLhmYbHr7k",
        "colab_type": "text"
      },
      "source": [
        "Training and Evaluation of 3 different models using the \"Functional Connectivity\" Dataset. Evaluation with accuracy and f1 score.\n"
      ]
    },
    {
      "cell_type": "code",
      "metadata": {
        "id": "PMPjPSnEHyZW",
        "colab_type": "code",
        "colab": {
          "base_uri": "https://localhost:8080/",
          "height": 1000
        },
        "outputId": "fb4e19a7-21c2-4949-a448-06496d9492be"
      },
      "source": [
        "'''\n",
        "Training 3 models (Logistic Regression, Gradient Boosting, Deep Neural Network) with Functional Connectivity dataset\n",
        "After fitting, test performances (accuracy and f1 score) are calculated, and shown as tables.\n",
        "'''\n",
        "fc_log_res_model,fc_log_res_performance,fc_log_res_model_hyperparam=logistic_regression_grid_search(train_data_fc,train_label_fc,dev_data_fc,dev_label_fc)\n",
        "fc_log_res_model_test_label=np.around(fc_log_res_model.predict(test_data_fc))\n",
        "fc_log_res_performance['test_accuracy']=accuracy_score(test_label_fc, fc_log_res_model_test_label)\n",
        "fc_log_res_performance['test_f1score']=f1_score(test_label_fc, fc_log_res_model_test_label)\n",
        "\n",
        "fc_grad_boost_model,fc_grad_boost_performance=gradient_boosting_grid_search(train_data_fc,train_label_fc,dev_data_fc,dev_label_fc)\n",
        "fc_grad_boost_model_test_label=fc_grad_boost_model.predict(test_data_fc)\n",
        "fc_grad_boost_performance['test_accuracy']=accuracy_score(test_label_fc, fc_grad_boost_model_test_label)\n",
        "fc_grad_boost_performance['test_f1score']=f1_score(test_label_fc, fc_grad_boost_model_test_label)\n",
        "\n",
        "fc_dnn_model,fc_dnn_performance,fc_dnn_model_hyperparam=dnn_grid_search(train_data_fc,train_label_fc,dev_data_fc,dev_label_fc)\n",
        "fc_dnn_model_test_label=np.around(fc_dnn_model.predict(test_data_fc))\n",
        "fc_dnn_performance['test_accuracy']=accuracy_score(test_label_fc,fc_dnn_model_test_label)\n",
        "fc_dnn_performance['test_f1score']=f1_score(test_label_fc, fc_dnn_model_test_label)\n",
        "\n",
        "acc_column_labels_fc=['Accuracy for Functional Connectivity','Training','Validation','Test']\n",
        "\n",
        "acc_values_fc=[['Logistic Regression','Gradient Boosting','Deep Neural Network'],\n",
        "          ['%.3f'%fc_log_res_performance['train_accuracy'],'%.3f'%fc_grad_boost_performance['train_accuracy'],'%.3f'%fc_dnn_performance['train_accuracy']],\n",
        "          ['%.3f'%fc_log_res_performance['dev_accuracy'],'%.3f'%fc_grad_boost_performance['dev_accuracy'],'%.3f'%fc_dnn_performance['dev_accuracy']],\n",
        "          ['%.3f'%fc_log_res_performance['test_accuracy'],'%.3f'%fc_grad_boost_performance['test_accuracy'],'%.3f'%fc_dnn_performance['test_accuracy']]]\n",
        "\n",
        "fig_acc_fc = go.Figure(data=[go.Table(header=dict(values=acc_column_labels_fc),\n",
        "                 cells=dict(values=acc_values_fc))\n",
        "                     ])\n",
        "fig_acc_fc.update_layout(autosize=False,width=1200,height=350)\n",
        "fig_acc_fc.show()\n",
        "\n",
        "\n",
        "f1_column_labels_fc=['F1 Score for Functional Connectivity','Training','Validation','Test']\n",
        "\n",
        "f1_values_fc=[['Logistic Regression','Gradient Boosting','Deep Neural Network'],\n",
        "          ['%.3f'%fc_log_res_performance['train_f1score'],'%.3f'%fc_grad_boost_performance['train_f1score'],'%.3f'%fc_dnn_performance['train_f1score']],\n",
        "          ['%.3f'%fc_log_res_performance['dev_f1score'],'%.3f'%fc_grad_boost_performance['dev_f1score'],'%.3f'%fc_dnn_performance['dev_f1score']],\n",
        "          ['%.3f'%fc_log_res_performance['test_f1score'],'%.3f'%fc_grad_boost_performance['test_f1score'],'%.3f'%fc_dnn_performance['test_f1score']]]\n",
        "\n",
        "fig_f1_fc = go.Figure(data=[go.Table(header=dict(values=f1_column_labels_fc),\n",
        "                 cells=dict(values=f1_values_fc))\n",
        "                     ])\n",
        "fig_f1_fc.update_layout(autosize=False,width=1200,height=350)\n",
        "fig_f1_fc.show()\n",
        "\n"
      ],
      "execution_count": 15,
      "outputs": [
        {
          "output_type": "stream",
          "text": [
            "/usr/local/lib/python3.6/dist-packages/statsmodels/base/l1_solvers_common.py:73: ConvergenceWarning:\n",
            "\n",
            "QC check did not pass for 40 out of 40 parameters\n",
            "Try increasing solver accuracy or number of iterations, decreasing alpha, or switch solvers\n",
            "\n",
            "/usr/local/lib/python3.6/dist-packages/statsmodels/base/l1_solvers_common.py:146: ConvergenceWarning:\n",
            "\n",
            "Could not trim params automatically due to failed QC check. Trimming using trim_mode == 'size' will still work.\n",
            "\n",
            "/usr/local/lib/python3.6/dist-packages/statsmodels/base/l1_solvers_common.py:73: ConvergenceWarning:\n",
            "\n",
            "QC check did not pass for 40 out of 40 parameters\n",
            "Try increasing solver accuracy or number of iterations, decreasing alpha, or switch solvers\n",
            "\n",
            "/usr/local/lib/python3.6/dist-packages/statsmodels/base/l1_solvers_common.py:146: ConvergenceWarning:\n",
            "\n",
            "Could not trim params automatically due to failed QC check. Trimming using trim_mode == 'size' will still work.\n",
            "\n",
            "/usr/local/lib/python3.6/dist-packages/statsmodels/base/l1_solvers_common.py:73: ConvergenceWarning:\n",
            "\n",
            "QC check did not pass for 40 out of 40 parameters\n",
            "Try increasing solver accuracy or number of iterations, decreasing alpha, or switch solvers\n",
            "\n",
            "/usr/local/lib/python3.6/dist-packages/statsmodels/base/l1_solvers_common.py:146: ConvergenceWarning:\n",
            "\n",
            "Could not trim params automatically due to failed QC check. Trimming using trim_mode == 'size' will still work.\n",
            "\n",
            "/usr/local/lib/python3.6/dist-packages/statsmodels/base/l1_solvers_common.py:73: ConvergenceWarning:\n",
            "\n",
            "QC check did not pass for 30 out of 40 parameters\n",
            "Try increasing solver accuracy or number of iterations, decreasing alpha, or switch solvers\n",
            "\n",
            "/usr/local/lib/python3.6/dist-packages/statsmodels/base/l1_solvers_common.py:146: ConvergenceWarning:\n",
            "\n",
            "Could not trim params automatically due to failed QC check. Trimming using trim_mode == 'size' will still work.\n",
            "\n",
            "/usr/local/lib/python3.6/dist-packages/statsmodels/base/l1_solvers_common.py:73: ConvergenceWarning:\n",
            "\n",
            "QC check did not pass for 1 out of 40 parameters\n",
            "Try increasing solver accuracy or number of iterations, decreasing alpha, or switch solvers\n",
            "\n",
            "/usr/local/lib/python3.6/dist-packages/statsmodels/base/l1_solvers_common.py:146: ConvergenceWarning:\n",
            "\n",
            "Could not trim params automatically due to failed QC check. Trimming using trim_mode == 'size' will still work.\n",
            "\n",
            "/usr/local/lib/python3.6/dist-packages/statsmodels/base/l1_solvers_common.py:73: ConvergenceWarning:\n",
            "\n",
            "QC check did not pass for 40 out of 40 parameters\n",
            "Try increasing solver accuracy or number of iterations, decreasing alpha, or switch solvers\n",
            "\n",
            "/usr/local/lib/python3.6/dist-packages/statsmodels/base/l1_solvers_common.py:146: ConvergenceWarning:\n",
            "\n",
            "Could not trim params automatically due to failed QC check. Trimming using trim_mode == 'size' will still work.\n",
            "\n",
            "/usr/local/lib/python3.6/dist-packages/statsmodels/base/l1_solvers_common.py:73: ConvergenceWarning:\n",
            "\n",
            "QC check did not pass for 40 out of 40 parameters\n",
            "Try increasing solver accuracy or number of iterations, decreasing alpha, or switch solvers\n",
            "\n",
            "/usr/local/lib/python3.6/dist-packages/statsmodels/base/l1_solvers_common.py:146: ConvergenceWarning:\n",
            "\n",
            "Could not trim params automatically due to failed QC check. Trimming using trim_mode == 'size' will still work.\n",
            "\n",
            "/usr/local/lib/python3.6/dist-packages/statsmodels/base/l1_solvers_common.py:73: ConvergenceWarning:\n",
            "\n",
            "QC check did not pass for 23 out of 40 parameters\n",
            "Try increasing solver accuracy or number of iterations, decreasing alpha, or switch solvers\n",
            "\n",
            "/usr/local/lib/python3.6/dist-packages/statsmodels/base/l1_solvers_common.py:146: ConvergenceWarning:\n",
            "\n",
            "Could not trim params automatically due to failed QC check. Trimming using trim_mode == 'size' will still work.\n",
            "\n",
            "100%|██████████| 12/12 [16:39<00:00, 83.28s/it]\n"
          ],
          "name": "stderr"
        },
        {
          "output_type": "display_data",
          "data": {
            "text/html": [
              "<html>\n",
              "<head><meta charset=\"utf-8\" /></head>\n",
              "<body>\n",
              "    <div>\n",
              "            <script src=\"https://cdnjs.cloudflare.com/ajax/libs/mathjax/2.7.5/MathJax.js?config=TeX-AMS-MML_SVG\"></script><script type=\"text/javascript\">if (window.MathJax) {MathJax.Hub.Config({SVG: {font: \"STIX-Web\"}});}</script>\n",
              "                <script type=\"text/javascript\">window.PlotlyConfig = {MathJaxConfig: 'local'};</script>\n",
              "        <script src=\"https://cdn.plot.ly/plotly-latest.min.js\"></script>    \n",
              "            <div id=\"c649c74a-c24f-4fd7-b0c5-acad63db0257\" class=\"plotly-graph-div\" style=\"height:350px; width:1200px;\"></div>\n",
              "            <script type=\"text/javascript\">\n",
              "                \n",
              "                    window.PLOTLYENV=window.PLOTLYENV || {};\n",
              "                    \n",
              "                if (document.getElementById(\"c649c74a-c24f-4fd7-b0c5-acad63db0257\")) {\n",
              "                    Plotly.newPlot(\n",
              "                        'c649c74a-c24f-4fd7-b0c5-acad63db0257',\n",
              "                        [{\"cells\": {\"values\": [[\"Logistic Regression\", \"Gradient Boosting\", \"Deep Neural Network\"], [\"0.835\", \"0.999\", \"0.924\"], [\"0.825\", \"0.903\", \"0.889\"], [\"0.836\", \"0.906\", \"0.888\"]]}, \"header\": {\"values\": [\"Accuracy for Functional Connectivity\", \"Training\", \"Validation\", \"Test\"]}, \"type\": \"table\"}],\n",
              "                        {\"autosize\": false, \"height\": 350, \"template\": {\"data\": {\"bar\": [{\"error_x\": {\"color\": \"#2a3f5f\"}, \"error_y\": {\"color\": \"#2a3f5f\"}, \"marker\": {\"line\": {\"color\": \"#E5ECF6\", \"width\": 0.5}}, \"type\": \"bar\"}], \"barpolar\": [{\"marker\": {\"line\": {\"color\": \"#E5ECF6\", \"width\": 0.5}}, \"type\": \"barpolar\"}], \"carpet\": [{\"aaxis\": {\"endlinecolor\": \"#2a3f5f\", \"gridcolor\": \"white\", \"linecolor\": \"white\", \"minorgridcolor\": \"white\", \"startlinecolor\": \"#2a3f5f\"}, \"baxis\": {\"endlinecolor\": \"#2a3f5f\", \"gridcolor\": \"white\", \"linecolor\": \"white\", \"minorgridcolor\": \"white\", \"startlinecolor\": \"#2a3f5f\"}, \"type\": \"carpet\"}], \"choropleth\": [{\"colorbar\": {\"outlinewidth\": 0, \"ticks\": \"\"}, \"type\": \"choropleth\"}], \"contour\": [{\"colorbar\": {\"outlinewidth\": 0, \"ticks\": \"\"}, \"colorscale\": [[0.0, \"#0d0887\"], [0.1111111111111111, \"#46039f\"], [0.2222222222222222, \"#7201a8\"], [0.3333333333333333, \"#9c179e\"], [0.4444444444444444, \"#bd3786\"], [0.5555555555555556, \"#d8576b\"], [0.6666666666666666, \"#ed7953\"], [0.7777777777777778, \"#fb9f3a\"], [0.8888888888888888, \"#fdca26\"], [1.0, \"#f0f921\"]], \"type\": \"contour\"}], \"contourcarpet\": [{\"colorbar\": {\"outlinewidth\": 0, \"ticks\": \"\"}, \"type\": \"contourcarpet\"}], \"heatmap\": [{\"colorbar\": {\"outlinewidth\": 0, \"ticks\": \"\"}, \"colorscale\": [[0.0, \"#0d0887\"], [0.1111111111111111, \"#46039f\"], [0.2222222222222222, \"#7201a8\"], [0.3333333333333333, \"#9c179e\"], [0.4444444444444444, \"#bd3786\"], [0.5555555555555556, \"#d8576b\"], [0.6666666666666666, \"#ed7953\"], [0.7777777777777778, \"#fb9f3a\"], [0.8888888888888888, \"#fdca26\"], [1.0, \"#f0f921\"]], \"type\": \"heatmap\"}], \"heatmapgl\": [{\"colorbar\": {\"outlinewidth\": 0, \"ticks\": \"\"}, \"colorscale\": [[0.0, \"#0d0887\"], [0.1111111111111111, \"#46039f\"], [0.2222222222222222, \"#7201a8\"], [0.3333333333333333, \"#9c179e\"], [0.4444444444444444, \"#bd3786\"], [0.5555555555555556, \"#d8576b\"], [0.6666666666666666, \"#ed7953\"], [0.7777777777777778, \"#fb9f3a\"], [0.8888888888888888, \"#fdca26\"], [1.0, \"#f0f921\"]], \"type\": \"heatmapgl\"}], \"histogram\": [{\"marker\": {\"colorbar\": {\"outlinewidth\": 0, \"ticks\": \"\"}}, \"type\": \"histogram\"}], \"histogram2d\": [{\"colorbar\": {\"outlinewidth\": 0, \"ticks\": \"\"}, \"colorscale\": [[0.0, \"#0d0887\"], [0.1111111111111111, \"#46039f\"], [0.2222222222222222, \"#7201a8\"], [0.3333333333333333, \"#9c179e\"], [0.4444444444444444, \"#bd3786\"], [0.5555555555555556, \"#d8576b\"], [0.6666666666666666, \"#ed7953\"], [0.7777777777777778, \"#fb9f3a\"], [0.8888888888888888, \"#fdca26\"], [1.0, \"#f0f921\"]], \"type\": \"histogram2d\"}], \"histogram2dcontour\": [{\"colorbar\": {\"outlinewidth\": 0, \"ticks\": \"\"}, \"colorscale\": [[0.0, \"#0d0887\"], [0.1111111111111111, \"#46039f\"], [0.2222222222222222, \"#7201a8\"], [0.3333333333333333, \"#9c179e\"], [0.4444444444444444, \"#bd3786\"], [0.5555555555555556, \"#d8576b\"], [0.6666666666666666, \"#ed7953\"], [0.7777777777777778, \"#fb9f3a\"], [0.8888888888888888, \"#fdca26\"], [1.0, \"#f0f921\"]], \"type\": \"histogram2dcontour\"}], \"mesh3d\": [{\"colorbar\": {\"outlinewidth\": 0, \"ticks\": \"\"}, \"type\": \"mesh3d\"}], \"parcoords\": [{\"line\": {\"colorbar\": {\"outlinewidth\": 0, \"ticks\": \"\"}}, \"type\": \"parcoords\"}], \"pie\": [{\"automargin\": true, \"type\": \"pie\"}], \"scatter\": [{\"marker\": {\"colorbar\": {\"outlinewidth\": 0, \"ticks\": \"\"}}, \"type\": \"scatter\"}], \"scatter3d\": [{\"line\": {\"colorbar\": {\"outlinewidth\": 0, \"ticks\": \"\"}}, \"marker\": {\"colorbar\": {\"outlinewidth\": 0, \"ticks\": \"\"}}, \"type\": \"scatter3d\"}], \"scattercarpet\": [{\"marker\": {\"colorbar\": {\"outlinewidth\": 0, \"ticks\": \"\"}}, \"type\": \"scattercarpet\"}], \"scattergeo\": [{\"marker\": {\"colorbar\": {\"outlinewidth\": 0, \"ticks\": \"\"}}, \"type\": \"scattergeo\"}], \"scattergl\": [{\"marker\": {\"colorbar\": {\"outlinewidth\": 0, \"ticks\": \"\"}}, \"type\": \"scattergl\"}], \"scattermapbox\": [{\"marker\": {\"colorbar\": {\"outlinewidth\": 0, \"ticks\": \"\"}}, \"type\": \"scattermapbox\"}], \"scatterpolar\": [{\"marker\": {\"colorbar\": {\"outlinewidth\": 0, \"ticks\": \"\"}}, \"type\": \"scatterpolar\"}], \"scatterpolargl\": [{\"marker\": {\"colorbar\": {\"outlinewidth\": 0, \"ticks\": \"\"}}, \"type\": \"scatterpolargl\"}], \"scatterternary\": [{\"marker\": {\"colorbar\": {\"outlinewidth\": 0, \"ticks\": \"\"}}, \"type\": \"scatterternary\"}], \"surface\": [{\"colorbar\": {\"outlinewidth\": 0, \"ticks\": \"\"}, \"colorscale\": [[0.0, \"#0d0887\"], [0.1111111111111111, \"#46039f\"], [0.2222222222222222, \"#7201a8\"], [0.3333333333333333, \"#9c179e\"], [0.4444444444444444, \"#bd3786\"], [0.5555555555555556, \"#d8576b\"], [0.6666666666666666, \"#ed7953\"], [0.7777777777777778, \"#fb9f3a\"], [0.8888888888888888, \"#fdca26\"], [1.0, \"#f0f921\"]], \"type\": \"surface\"}], \"table\": [{\"cells\": {\"fill\": {\"color\": \"#EBF0F8\"}, \"line\": {\"color\": \"white\"}}, \"header\": {\"fill\": {\"color\": \"#C8D4E3\"}, \"line\": {\"color\": \"white\"}}, \"type\": \"table\"}]}, \"layout\": {\"annotationdefaults\": {\"arrowcolor\": \"#2a3f5f\", \"arrowhead\": 0, \"arrowwidth\": 1}, \"coloraxis\": {\"colorbar\": {\"outlinewidth\": 0, \"ticks\": \"\"}}, \"colorscale\": {\"diverging\": [[0, \"#8e0152\"], [0.1, \"#c51b7d\"], [0.2, \"#de77ae\"], [0.3, \"#f1b6da\"], [0.4, \"#fde0ef\"], [0.5, \"#f7f7f7\"], [0.6, \"#e6f5d0\"], [0.7, \"#b8e186\"], [0.8, \"#7fbc41\"], [0.9, \"#4d9221\"], [1, \"#276419\"]], \"sequential\": [[0.0, \"#0d0887\"], [0.1111111111111111, \"#46039f\"], [0.2222222222222222, \"#7201a8\"], [0.3333333333333333, \"#9c179e\"], [0.4444444444444444, \"#bd3786\"], [0.5555555555555556, \"#d8576b\"], [0.6666666666666666, \"#ed7953\"], [0.7777777777777778, \"#fb9f3a\"], [0.8888888888888888, \"#fdca26\"], [1.0, \"#f0f921\"]], \"sequentialminus\": [[0.0, \"#0d0887\"], [0.1111111111111111, \"#46039f\"], [0.2222222222222222, \"#7201a8\"], [0.3333333333333333, \"#9c179e\"], [0.4444444444444444, \"#bd3786\"], [0.5555555555555556, \"#d8576b\"], [0.6666666666666666, \"#ed7953\"], [0.7777777777777778, \"#fb9f3a\"], [0.8888888888888888, \"#fdca26\"], [1.0, \"#f0f921\"]]}, \"colorway\": [\"#636efa\", \"#EF553B\", \"#00cc96\", \"#ab63fa\", \"#FFA15A\", \"#19d3f3\", \"#FF6692\", \"#B6E880\", \"#FF97FF\", \"#FECB52\"], \"font\": {\"color\": \"#2a3f5f\"}, \"geo\": {\"bgcolor\": \"white\", \"lakecolor\": \"white\", \"landcolor\": \"#E5ECF6\", \"showlakes\": true, \"showland\": true, \"subunitcolor\": \"white\"}, \"hoverlabel\": {\"align\": \"left\"}, \"hovermode\": \"closest\", \"mapbox\": {\"style\": \"light\"}, \"paper_bgcolor\": \"white\", \"plot_bgcolor\": \"#E5ECF6\", \"polar\": {\"angularaxis\": {\"gridcolor\": \"white\", \"linecolor\": \"white\", \"ticks\": \"\"}, \"bgcolor\": \"#E5ECF6\", \"radialaxis\": {\"gridcolor\": \"white\", \"linecolor\": \"white\", \"ticks\": \"\"}}, \"scene\": {\"xaxis\": {\"backgroundcolor\": \"#E5ECF6\", \"gridcolor\": \"white\", \"gridwidth\": 2, \"linecolor\": \"white\", \"showbackground\": true, \"ticks\": \"\", \"zerolinecolor\": \"white\"}, \"yaxis\": {\"backgroundcolor\": \"#E5ECF6\", \"gridcolor\": \"white\", \"gridwidth\": 2, \"linecolor\": \"white\", \"showbackground\": true, \"ticks\": \"\", \"zerolinecolor\": \"white\"}, \"zaxis\": {\"backgroundcolor\": \"#E5ECF6\", \"gridcolor\": \"white\", \"gridwidth\": 2, \"linecolor\": \"white\", \"showbackground\": true, \"ticks\": \"\", \"zerolinecolor\": \"white\"}}, \"shapedefaults\": {\"line\": {\"color\": \"#2a3f5f\"}}, \"ternary\": {\"aaxis\": {\"gridcolor\": \"white\", \"linecolor\": \"white\", \"ticks\": \"\"}, \"baxis\": {\"gridcolor\": \"white\", \"linecolor\": \"white\", \"ticks\": \"\"}, \"bgcolor\": \"#E5ECF6\", \"caxis\": {\"gridcolor\": \"white\", \"linecolor\": \"white\", \"ticks\": \"\"}}, \"title\": {\"x\": 0.05}, \"xaxis\": {\"automargin\": true, \"gridcolor\": \"white\", \"linecolor\": \"white\", \"ticks\": \"\", \"title\": {\"standoff\": 15}, \"zerolinecolor\": \"white\", \"zerolinewidth\": 2}, \"yaxis\": {\"automargin\": true, \"gridcolor\": \"white\", \"linecolor\": \"white\", \"ticks\": \"\", \"title\": {\"standoff\": 15}, \"zerolinecolor\": \"white\", \"zerolinewidth\": 2}}}, \"width\": 1200},\n",
              "                        {\"responsive\": true}\n",
              "                    ).then(function(){\n",
              "                            \n",
              "var gd = document.getElementById('c649c74a-c24f-4fd7-b0c5-acad63db0257');\n",
              "var x = new MutationObserver(function (mutations, observer) {{\n",
              "        var display = window.getComputedStyle(gd).display;\n",
              "        if (!display || display === 'none') {{\n",
              "            console.log([gd, 'removed!']);\n",
              "            Plotly.purge(gd);\n",
              "            observer.disconnect();\n",
              "        }}\n",
              "}});\n",
              "\n",
              "// Listen for the removal of the full notebook cells\n",
              "var notebookContainer = gd.closest('#notebook-container');\n",
              "if (notebookContainer) {{\n",
              "    x.observe(notebookContainer, {childList: true});\n",
              "}}\n",
              "\n",
              "// Listen for the clearing of the current output cell\n",
              "var outputEl = gd.closest('.output');\n",
              "if (outputEl) {{\n",
              "    x.observe(outputEl, {childList: true});\n",
              "}}\n",
              "\n",
              "                        })\n",
              "                };\n",
              "                \n",
              "            </script>\n",
              "        </div>\n",
              "</body>\n",
              "</html>"
            ]
          },
          "metadata": {
            "tags": []
          }
        },
        {
          "output_type": "display_data",
          "data": {
            "text/html": [
              "<html>\n",
              "<head><meta charset=\"utf-8\" /></head>\n",
              "<body>\n",
              "    <div>\n",
              "            <script src=\"https://cdnjs.cloudflare.com/ajax/libs/mathjax/2.7.5/MathJax.js?config=TeX-AMS-MML_SVG\"></script><script type=\"text/javascript\">if (window.MathJax) {MathJax.Hub.Config({SVG: {font: \"STIX-Web\"}});}</script>\n",
              "                <script type=\"text/javascript\">window.PlotlyConfig = {MathJaxConfig: 'local'};</script>\n",
              "        <script src=\"https://cdn.plot.ly/plotly-latest.min.js\"></script>    \n",
              "            <div id=\"4ecd5f6f-93fb-447e-937e-8ad8b3164dbb\" class=\"plotly-graph-div\" style=\"height:350px; width:1200px;\"></div>\n",
              "            <script type=\"text/javascript\">\n",
              "                \n",
              "                    window.PLOTLYENV=window.PLOTLYENV || {};\n",
              "                    \n",
              "                if (document.getElementById(\"4ecd5f6f-93fb-447e-937e-8ad8b3164dbb\")) {\n",
              "                    Plotly.newPlot(\n",
              "                        '4ecd5f6f-93fb-447e-937e-8ad8b3164dbb',\n",
              "                        [{\"cells\": {\"values\": [[\"Logistic Regression\", \"Gradient Boosting\", \"Deep Neural Network\"], [\"0.811\", \"0.999\", \"0.909\"], [\"0.800\", \"0.885\", \"0.867\"], [\"0.809\", \"0.890\", \"0.866\"]]}, \"header\": {\"values\": [\"F1 Score for Functional Connectivity\", \"Training\", \"Validation\", \"Test\"]}, \"type\": \"table\"}],\n",
              "                        {\"autosize\": false, \"height\": 350, \"template\": {\"data\": {\"bar\": [{\"error_x\": {\"color\": \"#2a3f5f\"}, \"error_y\": {\"color\": \"#2a3f5f\"}, \"marker\": {\"line\": {\"color\": \"#E5ECF6\", \"width\": 0.5}}, \"type\": \"bar\"}], \"barpolar\": [{\"marker\": {\"line\": {\"color\": \"#E5ECF6\", \"width\": 0.5}}, \"type\": \"barpolar\"}], \"carpet\": [{\"aaxis\": {\"endlinecolor\": \"#2a3f5f\", \"gridcolor\": \"white\", \"linecolor\": \"white\", \"minorgridcolor\": \"white\", \"startlinecolor\": \"#2a3f5f\"}, \"baxis\": {\"endlinecolor\": \"#2a3f5f\", \"gridcolor\": \"white\", \"linecolor\": \"white\", \"minorgridcolor\": \"white\", \"startlinecolor\": \"#2a3f5f\"}, \"type\": \"carpet\"}], \"choropleth\": [{\"colorbar\": {\"outlinewidth\": 0, \"ticks\": \"\"}, \"type\": \"choropleth\"}], \"contour\": [{\"colorbar\": {\"outlinewidth\": 0, \"ticks\": \"\"}, \"colorscale\": [[0.0, \"#0d0887\"], [0.1111111111111111, \"#46039f\"], [0.2222222222222222, \"#7201a8\"], [0.3333333333333333, \"#9c179e\"], [0.4444444444444444, \"#bd3786\"], [0.5555555555555556, \"#d8576b\"], [0.6666666666666666, \"#ed7953\"], [0.7777777777777778, \"#fb9f3a\"], [0.8888888888888888, \"#fdca26\"], [1.0, \"#f0f921\"]], \"type\": \"contour\"}], \"contourcarpet\": [{\"colorbar\": {\"outlinewidth\": 0, \"ticks\": \"\"}, \"type\": \"contourcarpet\"}], \"heatmap\": [{\"colorbar\": {\"outlinewidth\": 0, \"ticks\": \"\"}, \"colorscale\": [[0.0, \"#0d0887\"], [0.1111111111111111, \"#46039f\"], [0.2222222222222222, \"#7201a8\"], [0.3333333333333333, \"#9c179e\"], [0.4444444444444444, \"#bd3786\"], [0.5555555555555556, \"#d8576b\"], [0.6666666666666666, \"#ed7953\"], [0.7777777777777778, \"#fb9f3a\"], [0.8888888888888888, \"#fdca26\"], [1.0, \"#f0f921\"]], \"type\": \"heatmap\"}], \"heatmapgl\": [{\"colorbar\": {\"outlinewidth\": 0, \"ticks\": \"\"}, \"colorscale\": [[0.0, \"#0d0887\"], [0.1111111111111111, \"#46039f\"], [0.2222222222222222, \"#7201a8\"], [0.3333333333333333, \"#9c179e\"], [0.4444444444444444, \"#bd3786\"], [0.5555555555555556, \"#d8576b\"], [0.6666666666666666, \"#ed7953\"], [0.7777777777777778, \"#fb9f3a\"], [0.8888888888888888, \"#fdca26\"], [1.0, \"#f0f921\"]], \"type\": \"heatmapgl\"}], \"histogram\": [{\"marker\": {\"colorbar\": {\"outlinewidth\": 0, \"ticks\": \"\"}}, \"type\": \"histogram\"}], \"histogram2d\": [{\"colorbar\": {\"outlinewidth\": 0, \"ticks\": \"\"}, \"colorscale\": [[0.0, \"#0d0887\"], [0.1111111111111111, \"#46039f\"], [0.2222222222222222, \"#7201a8\"], [0.3333333333333333, \"#9c179e\"], [0.4444444444444444, \"#bd3786\"], [0.5555555555555556, \"#d8576b\"], [0.6666666666666666, \"#ed7953\"], [0.7777777777777778, \"#fb9f3a\"], [0.8888888888888888, \"#fdca26\"], [1.0, \"#f0f921\"]], \"type\": \"histogram2d\"}], \"histogram2dcontour\": [{\"colorbar\": {\"outlinewidth\": 0, \"ticks\": \"\"}, \"colorscale\": [[0.0, \"#0d0887\"], [0.1111111111111111, \"#46039f\"], [0.2222222222222222, \"#7201a8\"], [0.3333333333333333, \"#9c179e\"], [0.4444444444444444, \"#bd3786\"], [0.5555555555555556, \"#d8576b\"], [0.6666666666666666, \"#ed7953\"], [0.7777777777777778, \"#fb9f3a\"], [0.8888888888888888, \"#fdca26\"], [1.0, \"#f0f921\"]], \"type\": \"histogram2dcontour\"}], \"mesh3d\": [{\"colorbar\": {\"outlinewidth\": 0, \"ticks\": \"\"}, \"type\": \"mesh3d\"}], \"parcoords\": [{\"line\": {\"colorbar\": {\"outlinewidth\": 0, \"ticks\": \"\"}}, \"type\": \"parcoords\"}], \"pie\": [{\"automargin\": true, \"type\": \"pie\"}], \"scatter\": [{\"marker\": {\"colorbar\": {\"outlinewidth\": 0, \"ticks\": \"\"}}, \"type\": \"scatter\"}], \"scatter3d\": [{\"line\": {\"colorbar\": {\"outlinewidth\": 0, \"ticks\": \"\"}}, \"marker\": {\"colorbar\": {\"outlinewidth\": 0, \"ticks\": \"\"}}, \"type\": \"scatter3d\"}], \"scattercarpet\": [{\"marker\": {\"colorbar\": {\"outlinewidth\": 0, \"ticks\": \"\"}}, \"type\": \"scattercarpet\"}], \"scattergeo\": [{\"marker\": {\"colorbar\": {\"outlinewidth\": 0, \"ticks\": \"\"}}, \"type\": \"scattergeo\"}], \"scattergl\": [{\"marker\": {\"colorbar\": {\"outlinewidth\": 0, \"ticks\": \"\"}}, \"type\": \"scattergl\"}], \"scattermapbox\": [{\"marker\": {\"colorbar\": {\"outlinewidth\": 0, \"ticks\": \"\"}}, \"type\": \"scattermapbox\"}], \"scatterpolar\": [{\"marker\": {\"colorbar\": {\"outlinewidth\": 0, \"ticks\": \"\"}}, \"type\": \"scatterpolar\"}], \"scatterpolargl\": [{\"marker\": {\"colorbar\": {\"outlinewidth\": 0, \"ticks\": \"\"}}, \"type\": \"scatterpolargl\"}], \"scatterternary\": [{\"marker\": {\"colorbar\": {\"outlinewidth\": 0, \"ticks\": \"\"}}, \"type\": \"scatterternary\"}], \"surface\": [{\"colorbar\": {\"outlinewidth\": 0, \"ticks\": \"\"}, \"colorscale\": [[0.0, \"#0d0887\"], [0.1111111111111111, \"#46039f\"], [0.2222222222222222, \"#7201a8\"], [0.3333333333333333, \"#9c179e\"], [0.4444444444444444, \"#bd3786\"], [0.5555555555555556, \"#d8576b\"], [0.6666666666666666, \"#ed7953\"], [0.7777777777777778, \"#fb9f3a\"], [0.8888888888888888, \"#fdca26\"], [1.0, \"#f0f921\"]], \"type\": \"surface\"}], \"table\": [{\"cells\": {\"fill\": {\"color\": \"#EBF0F8\"}, \"line\": {\"color\": \"white\"}}, \"header\": {\"fill\": {\"color\": \"#C8D4E3\"}, \"line\": {\"color\": \"white\"}}, \"type\": \"table\"}]}, \"layout\": {\"annotationdefaults\": {\"arrowcolor\": \"#2a3f5f\", \"arrowhead\": 0, \"arrowwidth\": 1}, \"coloraxis\": {\"colorbar\": {\"outlinewidth\": 0, \"ticks\": \"\"}}, \"colorscale\": {\"diverging\": [[0, \"#8e0152\"], [0.1, \"#c51b7d\"], [0.2, \"#de77ae\"], [0.3, \"#f1b6da\"], [0.4, \"#fde0ef\"], [0.5, \"#f7f7f7\"], [0.6, \"#e6f5d0\"], [0.7, \"#b8e186\"], [0.8, \"#7fbc41\"], [0.9, \"#4d9221\"], [1, \"#276419\"]], \"sequential\": [[0.0, \"#0d0887\"], [0.1111111111111111, \"#46039f\"], [0.2222222222222222, \"#7201a8\"], [0.3333333333333333, \"#9c179e\"], [0.4444444444444444, \"#bd3786\"], [0.5555555555555556, \"#d8576b\"], [0.6666666666666666, \"#ed7953\"], [0.7777777777777778, \"#fb9f3a\"], [0.8888888888888888, \"#fdca26\"], [1.0, \"#f0f921\"]], \"sequentialminus\": [[0.0, \"#0d0887\"], [0.1111111111111111, \"#46039f\"], [0.2222222222222222, \"#7201a8\"], [0.3333333333333333, \"#9c179e\"], [0.4444444444444444, \"#bd3786\"], [0.5555555555555556, \"#d8576b\"], [0.6666666666666666, \"#ed7953\"], [0.7777777777777778, \"#fb9f3a\"], [0.8888888888888888, \"#fdca26\"], [1.0, \"#f0f921\"]]}, \"colorway\": [\"#636efa\", \"#EF553B\", \"#00cc96\", \"#ab63fa\", \"#FFA15A\", \"#19d3f3\", \"#FF6692\", \"#B6E880\", \"#FF97FF\", \"#FECB52\"], \"font\": {\"color\": \"#2a3f5f\"}, \"geo\": {\"bgcolor\": \"white\", \"lakecolor\": \"white\", \"landcolor\": \"#E5ECF6\", \"showlakes\": true, \"showland\": true, \"subunitcolor\": \"white\"}, \"hoverlabel\": {\"align\": \"left\"}, \"hovermode\": \"closest\", \"mapbox\": {\"style\": \"light\"}, \"paper_bgcolor\": \"white\", \"plot_bgcolor\": \"#E5ECF6\", \"polar\": {\"angularaxis\": {\"gridcolor\": \"white\", \"linecolor\": \"white\", \"ticks\": \"\"}, \"bgcolor\": \"#E5ECF6\", \"radialaxis\": {\"gridcolor\": \"white\", \"linecolor\": \"white\", \"ticks\": \"\"}}, \"scene\": {\"xaxis\": {\"backgroundcolor\": \"#E5ECF6\", \"gridcolor\": \"white\", \"gridwidth\": 2, \"linecolor\": \"white\", \"showbackground\": true, \"ticks\": \"\", \"zerolinecolor\": \"white\"}, \"yaxis\": {\"backgroundcolor\": \"#E5ECF6\", \"gridcolor\": \"white\", \"gridwidth\": 2, \"linecolor\": \"white\", \"showbackground\": true, \"ticks\": \"\", \"zerolinecolor\": \"white\"}, \"zaxis\": {\"backgroundcolor\": \"#E5ECF6\", \"gridcolor\": \"white\", \"gridwidth\": 2, \"linecolor\": \"white\", \"showbackground\": true, \"ticks\": \"\", \"zerolinecolor\": \"white\"}}, \"shapedefaults\": {\"line\": {\"color\": \"#2a3f5f\"}}, \"ternary\": {\"aaxis\": {\"gridcolor\": \"white\", \"linecolor\": \"white\", \"ticks\": \"\"}, \"baxis\": {\"gridcolor\": \"white\", \"linecolor\": \"white\", \"ticks\": \"\"}, \"bgcolor\": \"#E5ECF6\", \"caxis\": {\"gridcolor\": \"white\", \"linecolor\": \"white\", \"ticks\": \"\"}}, \"title\": {\"x\": 0.05}, \"xaxis\": {\"automargin\": true, \"gridcolor\": \"white\", \"linecolor\": \"white\", \"ticks\": \"\", \"title\": {\"standoff\": 15}, \"zerolinecolor\": \"white\", \"zerolinewidth\": 2}, \"yaxis\": {\"automargin\": true, \"gridcolor\": \"white\", \"linecolor\": \"white\", \"ticks\": \"\", \"title\": {\"standoff\": 15}, \"zerolinecolor\": \"white\", \"zerolinewidth\": 2}}}, \"width\": 1200},\n",
              "                        {\"responsive\": true}\n",
              "                    ).then(function(){\n",
              "                            \n",
              "var gd = document.getElementById('4ecd5f6f-93fb-447e-937e-8ad8b3164dbb');\n",
              "var x = new MutationObserver(function (mutations, observer) {{\n",
              "        var display = window.getComputedStyle(gd).display;\n",
              "        if (!display || display === 'none') {{\n",
              "            console.log([gd, 'removed!']);\n",
              "            Plotly.purge(gd);\n",
              "            observer.disconnect();\n",
              "        }}\n",
              "}});\n",
              "\n",
              "// Listen for the removal of the full notebook cells\n",
              "var notebookContainer = gd.closest('#notebook-container');\n",
              "if (notebookContainer) {{\n",
              "    x.observe(notebookContainer, {childList: true});\n",
              "}}\n",
              "\n",
              "// Listen for the clearing of the current output cell\n",
              "var outputEl = gd.closest('.output');\n",
              "if (outputEl) {{\n",
              "    x.observe(outputEl, {childList: true});\n",
              "}}\n",
              "\n",
              "                        })\n",
              "                };\n",
              "                \n",
              "            </script>\n",
              "        </div>\n",
              "</body>\n",
              "</html>"
            ]
          },
          "metadata": {
            "tags": []
          }
        }
      ]
    },
    {
      "cell_type": "markdown",
      "metadata": {
        "id": "A8Lcnb98-Ik_",
        "colab_type": "text"
      },
      "source": [
        "#5 - Display"
      ]
    },
    {
      "cell_type": "markdown",
      "metadata": {
        "id": "6IUN8vvc-TOD",
        "colab_type": "text"
      },
      "source": [
        "Since the performance using Brain Observatory 1.1 is better, I will look at the logistic regression coefficients for this dataset. Print the summary of the model (coefficients, statistics etc.) and plot the coefficients (top 10) with highest amplitudes."
      ]
    },
    {
      "cell_type": "code",
      "metadata": {
        "id": "CkWtaNvL1Vag",
        "colab_type": "code",
        "colab": {
          "base_uri": "https://localhost:8080/",
          "height": 1000
        },
        "outputId": "c4292f95-83c1-403f-ba1d-6b8f85a0d451"
      },
      "source": [
        "'''\n",
        "1- Print the summary of logistic coefficient model\n",
        "2- Plot the coefficient values with 10 largest amplitude to a bar graph (and save as png file)\n",
        "'''\n",
        "\n",
        "\n",
        "number_of_coefficients_plot=10 # parameter to select the number of coefficients to plot\n",
        "y_axis_display_margin=0.05\n",
        "\n",
        "#Print Logistic Regression Model Summary\n",
        "print('Summary for Logistic Regression Model')\n",
        "print(bo_log_res_model.summary())\n",
        "\n",
        "\n",
        "#Print Logistic Regression Coefficients (10 coefficients with highest amplitudes)\n",
        "bo_log_res_model_coef=bo_log_res_model.params\n",
        "\n",
        "bo_log_res_model_coef_sort=(bo_log_res_model_coef.abs()).sort_values(axis=0,ascending=False)\n",
        "bo_log_res_model_coef_sort_with_sign=bo_log_res_model_coef[bo_log_res_model_coef_sort.keys()]\n",
        "\n",
        "matplotlib.rc('xtick', labelsize=15) \n",
        "matplotlib.rc('ytick', labelsize=15) \n",
        "plt.figure(figsize=(30,10),frameon=False)\n",
        "\n",
        "ax1=plt.gca()\n",
        "ax1.spines['top'].set_visible(False)\n",
        "ax1.spines['right'].set_visible(False)\n",
        "\n",
        "\n",
        "label_pos=[]\n",
        "value_pos=[]\n",
        "x_axis_pos=[]\n",
        "label_neg=[]\n",
        "value_neg=[]\n",
        "x_axis_neg=[]\n",
        "\n",
        "\n",
        "for coef_rank in range(0,number_of_coefficients_plot):\n",
        "  log_res_coef=bo_log_res_model_coef_sort_with_sign.iloc[coef_rank]\n",
        "  log_res_coef_key=(bo_log_res_model_coef_sort_with_sign.keys())[coef_rank]\n",
        "  if log_res_coef>=0:\n",
        "    label_pos.append(log_res_coef_key)\n",
        "    value_pos.append(log_res_coef)\n",
        "    x_axis_pos.append(coef_rank)\n",
        "  else:\n",
        "    label_neg.append(log_res_coef_key)\n",
        "    value_neg.append(log_res_coef)\n",
        "    x_axis_neg.append(coef_rank)\n",
        "\n",
        "plt.bar(np.asarray(x_axis_pos),np.squeeze(np.asarray(value_pos)),width=0.8,tick_label=label_pos,color='b',label=r'Metric $\\uparrow$    probability(Hippocampal Formation)$\\uparrow$')\n",
        "plt.bar(np.asarray(x_axis_neg),np.squeeze(np.asarray(value_neg)),width=0.8,tick_label=label_neg,color='r',label=r'Metric $\\uparrow$    probability(Visual Cortex)$\\uparrow$')\n",
        "matplotlib.pyplot.xticks(ticks=np.arange(0,10),labels=bo_log_res_model_coef_sort_with_sign.keys()[:10])\n",
        "plt.legend(fontsize=19)\n",
        "plt.ylabel('Regression Coefficient',fontsize=19)\n",
        "plt.xlabel('Metric',fontsize=19)\n",
        "plt.title('Logistic Regression Coefficients for 10 Metrics with Largest Coefficient Magnitude',fontsize=19)\n",
        "\n",
        "plt.ylim((-1-y_axis_display_margin)*bo_log_res_model_coef_sort_with_sign.abs().max(),(1+y_axis_display_margin)*bo_log_res_model_coef_sort_with_sign.abs().max())\n",
        "plt.axhline(color='k')\n",
        "plt.savefig('/tmp/AllenBrainDataset/Brain_Obsevatory_Log_Reg_Coef.png',dpi=600)\n"
      ],
      "execution_count": 16,
      "outputs": [
        {
          "output_type": "stream",
          "text": [
            "Summary for Logistic Regression Model\n",
            "                           Logit Regression Results                           \n",
            "==============================================================================\n",
            "Dep. Variable:                      y   No. Observations:                24088\n",
            "Model:                          Logit   Df Residuals:                    24048\n",
            "Method:                           MLE   Df Model:                           39\n",
            "Date:                Tue, 11 Feb 2020   Pseudo R-squ.:                  0.4947\n",
            "Time:                        04:27:25   Log-Likelihood:                -8252.4\n",
            "converged:                       True   LL-Null:                       -16332.\n",
            "Covariance Type:            nonrobust   LLR p-value:                     0.000\n",
            "==========================================================================================\n",
            "                             coef    std err          z      P>|z|      [0.025      0.975]\n",
            "------------------------------------------------------------------------------------------\n",
            "c50_dg                     0.0203      0.019      1.086      0.277      -0.016       0.057\n",
            "area_rf                   -0.1814      0.021     -8.821      0.000      -0.222      -0.141\n",
            "fano_dg                         0        nan        nan        nan         nan         nan\n",
            "fano_fl                    0.0280      0.020      1.377      0.168      -0.012       0.068\n",
            "fano_ns                    0.3309      0.025     13.084      0.000       0.281       0.380\n",
            "fano_rf                         0        nan        nan        nan         nan         nan\n",
            "fano_sg                    0.0269      0.020      1.327      0.184      -0.013       0.067\n",
            "f1_f0_dg                   0.4466      0.029     15.214      0.000       0.389       0.504\n",
            "g_dsi_dg                   0.2717      0.028      9.631      0.000       0.216       0.327\n",
            "g_osi_dg                  -0.2458      0.034     -7.273      0.000      -0.312      -0.180\n",
            "g_osi_sg                        0        nan        nan        nan         nan         nan\n",
            "width_rf                   0.3312      0.034      9.822      0.000       0.265       0.397\n",
            "height_rf                  0.3275      0.035      9.235      0.000       0.258       0.397\n",
            "azimuth_rf                      0        nan        nan        nan         nan         nan\n",
            "mod_idx_dg                -0.0754      0.021     -3.589      0.000      -0.117      -0.034\n",
            "p_value_rf                 1.1230      0.025     44.518      0.000       1.074       1.172\n",
            "pref_sf_sg                 0.0999      0.019      5.370      0.000       0.063       0.136\n",
            "pref_tf_dg                 0.1366      0.019      7.200      0.000       0.099       0.174\n",
            "run_mod_dg                -0.1100      0.019     -5.816      0.000      -0.147      -0.073\n",
            "run_mod_fl                -0.0552      0.020     -2.794      0.005      -0.094      -0.016\n",
            "run_mod_ns                -0.2302      0.020    -11.400      0.000      -0.270      -0.191\n",
            "run_mod_rf                -0.0594      0.019     -3.160      0.002      -0.096      -0.023\n",
            "run_mod_sg                -0.0900      0.020     -4.398      0.000      -0.130      -0.050\n",
            "pref_ori_dg                     0        nan        nan        nan         nan         nan\n",
            "pref_ori_sg                0.0429      0.019      2.306      0.021       0.006       0.079\n",
            "run_pval_dg                     0        nan        nan        nan         nan         nan\n",
            "run_pval_fl                     0        nan        nan        nan         nan         nan\n",
            "run_pval_ns                     0        nan        nan        nan         nan         nan\n",
            "run_pval_rf                0.0042      0.020      0.213      0.831      -0.034       0.043\n",
            "run_pval_sg                     0        nan        nan        nan         nan         nan\n",
            "elevation_rf               0.0599      0.020      3.040      0.002       0.021       0.099\n",
            "on_screen_rf              -0.1066      0.021     -5.088      0.000      -0.148      -0.066\n",
            "pref_image_ns                   0        nan        nan        nan         nan         nan\n",
            "pref_phase_sg                   0        nan        nan        nan         nan         nan\n",
            "firing_rate_dg             0.0976      0.046      2.139      0.032       0.008       0.187\n",
            "firing_rate_fl            -0.1529      0.045     -3.389      0.001      -0.241      -0.064\n",
            "firing_rate_ns            -0.1503      0.033     -4.624      0.000      -0.214      -0.087\n",
            "firing_rate_rf             0.0043      0.037      0.114      0.909      -0.069       0.078\n",
            "firing_rate_sg                  0        nan        nan        nan         nan         nan\n",
            "time_to_peak_fl           -0.0062      0.021     -0.296      0.767      -0.047       0.035\n",
            "time_to_peak_ns           -0.2300      0.019    -12.065      0.000      -0.267      -0.193\n",
            "time_to_peak_rf           -0.0475      0.019     -2.471      0.013      -0.085      -0.010\n",
            "time_to_peak_sg           -0.0932      0.019     -4.942      0.000      -0.130      -0.056\n",
            "pref_sf_multi_sg                0        nan        nan        nan         nan         nan\n",
            "pref_tf_multi_dg           0.0101      0.018      0.565      0.572      -0.025       0.045\n",
            "sustained_idx_fl           0.3141      0.039      8.135      0.000       0.238       0.390\n",
            "pref_ori_multi_dg          0.0455      0.018      2.532      0.011       0.010       0.081\n",
            "pref_ori_multi_sg               0        nan        nan        nan         nan         nan\n",
            "pref_phase_multi_sg             0        nan        nan        nan         nan         nan\n",
            "image_selectivity_ns      -1.4904      0.047    -31.708      0.000      -1.582      -1.398\n",
            "pref_images_multi_ns       0.0442      0.020      2.212      0.027       0.005       0.083\n",
            "lifetime_sparseness_dg    -0.3914      0.048     -8.111      0.000      -0.486      -0.297\n",
            "lifetime_sparseness_fl    -0.1531      0.022     -6.841      0.000      -0.197      -0.109\n",
            "lifetime_sparseness_ns     1.0388      0.050     20.602      0.000       0.940       1.138\n",
            "lifetime_sparseness_rf    -0.1091      0.030     -3.668      0.000      -0.167      -0.051\n",
            "lifetime_sparseness_sg          0        nan        nan        nan         nan         nan\n",
            "==========================================================================================\n"
          ],
          "name": "stdout"
        },
        {
          "output_type": "stream",
          "text": [
            "/usr/local/lib/python3.6/dist-packages/scipy/stats/_distn_infrastructure.py:903: RuntimeWarning:\n",
            "\n",
            "invalid value encountered in greater\n",
            "\n",
            "/usr/local/lib/python3.6/dist-packages/scipy/stats/_distn_infrastructure.py:903: RuntimeWarning:\n",
            "\n",
            "invalid value encountered in less\n",
            "\n",
            "/usr/local/lib/python3.6/dist-packages/scipy/stats/_distn_infrastructure.py:1912: RuntimeWarning:\n",
            "\n",
            "invalid value encountered in less_equal\n",
            "\n"
          ],
          "name": "stderr"
        },
        {
          "output_type": "display_data",
          "data": {
            "image/png": "[encoded data removed]",
            "text/plain": [
              "<Figure size 2160x720 with 1 Axes>"
            ]
          },
          "metadata": {
            "tags": []
          }
        }
      ]
    },
    {
      "cell_type": "markdown",
      "metadata": {
        "id": "VNCCbmTwD6Ld",
        "colab_type": "text"
      },
      "source": [
        "Visual display to compare the testing accuracy from Brain Observatory 1.1 vs Functional Connectivity Datasets using 3 different models (Logistic Regression, Gradient Boosting, Deep Neural Network).  "
      ]
    },
    {
      "cell_type": "code",
      "metadata": {
        "id": "rfNDT1AsERBz",
        "colab_type": "code",
        "colab": {
          "base_uri": "https://localhost:8080/",
          "height": 441
        },
        "outputId": "073fdd2d-89bf-470c-d22b-96f5997f3c75"
      },
      "source": [
        "'''\n",
        "Display test accuracy for 2 datasets (Brain Observatory 1.1 vs Functional Connectivity) using 3 different models (Logistic Regression, Gradient Boosting, Deep Neural Network)\n",
        "'''\n",
        "\n",
        "method_label=['Logistic Regression','Gradient Boosting','Deep Neural Network']\n",
        "bo_test_acc=[bo_log_res_performance['test_accuracy']*100,bo_grad_boost_performance['test_accuracy']*100,bo_dnn_performance['test_accuracy']*100]\n",
        "fc_test_acc=[fc_log_res_performance['test_accuracy']*100,fc_grad_boost_performance['test_accuracy']*100,fc_dnn_performance['test_accuracy']*100]\n",
        "\n",
        "method_x_pos=np.arange(len(method_label))\n",
        "width = 0.3\n",
        "\n",
        "fig_test_acc, ax_test_acc = plt.subplots(figsize=(9,6),frameon=False)\n",
        "matplotlib.rc('xtick', labelsize=12) \n",
        "matplotlib.rc('ytick', labelsize=12) \n",
        "\n",
        "bo_bars = ax_test_acc.bar(method_x_pos - width/2, bo_test_acc, width, label='Brain Observatory')\n",
        "fc_bars = ax_test_acc.bar(method_x_pos + width/2, fc_test_acc, width, label='Functional Connectivity')\n",
        "\n",
        "ax_test_acc.set_ylabel('Test Accuracy (%)',fontsize=14)\n",
        "ax_test_acc.set_title('Test Accuracy for 2 Datasets',fontsize=14)\n",
        "ax_test_acc.set_xticks(method_x_pos)\n",
        "ax_test_acc.set_xticklabels(method_label)\n",
        "ax_test_acc.legend(fontsize=14)\n",
        "\n",
        "def acc_label(bars):\n",
        "    \"\"\"Create a text label representing accuracy\"\"\"\n",
        "    for current_bar in bars:\n",
        "        height = current_bar.get_height()\n",
        "        ax_test_acc.annotate('%.2f'%height,\n",
        "                    xy=(current_bar.get_x() + current_bar.get_width() / 2, height),\n",
        "                    xytext=(0, 3),  # 3 points vertical offset\n",
        "                    textcoords=\"offset points\",\n",
        "                    ha='center', va='bottom')\n",
        "\n",
        "\n",
        "acc_label(bo_bars)\n",
        "acc_label(fc_bars)\n",
        "\n",
        "fig_test_acc.tight_layout()\n",
        "\n",
        "plt.axhline(y=100,color='k',dashes=(2,2))\n",
        "\n",
        "ax_test_acc.spines['top'].set_visible(False)\n",
        "ax_test_acc.spines['right'].set_visible(False)\n",
        "plt.ylim(0,119)\n",
        "\n",
        "plt.savefig('/tmp/AllenBrainDataset/Brain_Obsevatory_vs_Functional_Connectivity.png',dpi=600)"
      ],
      "execution_count": 17,
      "outputs": [
        {
          "output_type": "display_data",
          "data": {
            "image/png": "[encoded data removed]",
            "text/plain": [
              "<Figure size 648x432 with 1 Axes>"
            ]
          },
          "metadata": {
            "tags": []
          }
        }
      ]
    },
    {
      "cell_type": "markdown",
      "metadata": {
        "id": "455ZL8suRo3e",
        "colab_type": "text"
      },
      "source": [
        "#6 - Conclusions\n",
        "Here, we predicted the brain region of brain cells based on their electrophysiological activity. We have used the recently released [Allen Brain Neuropixels  Dataset](https://allensdk.readthedocs.io/en/latest/visual_coding_neuropixels.html). The goal was defined as a classification problem between two brain regions (Visual Cortex or Hippocampal Formation), which dominate (in sample size) the datasets. \n",
        "- Classification accuracy as high as 94% (on test set) is achieved (from Brain Observatory Dataset, using Gradient Boosting). This highlights that electrical activity contains rich information about brain cells;associated brain region in this case. \n",
        "- Overall, the performance (accuracy or f1 score) of Gradient Boosting was best, followed by a Deep Neural Network, that followed by Logistic Regression. \n",
        "- From two datasets with different experimental protocols, predictions using Brain Observatory 1.1 was more successful than Functional Connectivity Dataset.\n",
        "- The coefficients from logistic regression suggest that some of the predictors with high coefficients are plausible, given the current scientific knowledge. Whereas, coefficients associated with some predictors were harder to interpret,possibly due to nonlinear dependicies across predictors.\n",
        "\n",
        "**To sum up, physiological data contains rich information and reflects the address of a cell in the brain, as shown here using the [Allen Brain Neuropixels  Dataset](https://allensdk.readthedocs.io/en/latest/visual_coding_neuropixels.html).**"
      ]
    }
  ]
}